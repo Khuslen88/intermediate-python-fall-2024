{
 "cells": [
  {
   "cell_type": "markdown",
   "metadata": {},
   "source": [
    "# PSET3 - Unit Testing"
   ]
  },
  {
   "cell_type": "markdown",
   "metadata": {},
   "source": [
    "Following along with pset2, you will take the package you created and build unit tests for it. \n",
    "\n",
    "Requirements:\n",
    "- At least two tests for each function.\n",
    "- You should use setUp() and tearDown() methods to set up and tear down your tests.\n",
    "- Create helpful print statements in your tests to let the user know what is happening.\n",
    "\n",
    "Good luck!"
   ]
  },
  {
   "cell_type": "code",
   "execution_count": 1,
   "metadata": {},
   "outputs": [],
   "source": [
    "import unittest\n",
    "import pandas as pd\n",
    "import numpy as np"
   ]
  },
  {
   "cell_type": "code",
   "execution_count": 37,
   "metadata": {},
   "outputs": [],
   "source": [
    "from unit_converter.temperature import celsius_to_fahrenheit, fahrenheit_to_celsius, celsius_to_kelvin, kelvin_to_celsius\n",
    "from unit_converter.distance import miles_to_kilometers, kilometers_to_miles, feet_to_meters, meters_to_feet\n",
    "from unit_converter.weight import pounds_to_kilograms, kilograms_to_pounds"
   ]
  },
  {
   "cell_type": "code",
   "execution_count": 198,
   "metadata": {},
   "outputs": [
    {
     "name": "stderr",
     "output_type": "stream",
     "text": [
      "..........\n",
      "----------------------------------------------------------------------\n",
      "Ran 10 tests in 0.004s\n",
      "\n",
      "OK\n"
     ]
    },
    {
     "name": "stdout",
     "output_type": "stream",
     "text": [
      "Setting up Distance tests...\n",
      "Tearing down Distance tests...\n",
      "Setting up Distance tests...\n",
      "Tearing down Distance tests...\n",
      "Setting up Distance tests...\n",
      "Tearing down Distance tests...\n",
      "Setting up Distance tests...\n",
      "Tearing down Distance tests...\n",
      "Setting up Temperature tests...\n",
      "Tearing down Temperature tests...\n",
      "Setting up Temperature tests...\n",
      "Tearing down Temperature tests...\n",
      "Setting up Temperature tests...\n",
      "Tearing down Temperature tests...\n",
      "Setting up Temperature tests...\n",
      "Tearing down Temperature tests...\n",
      "Setting up Weight tests...\n",
      "Tearing down Weight tests...\n",
      "Setting up Weight tests...\n",
      "Tearing down Weight tests...\n"
     ]
    }
   ],
   "source": [
    "# Unit Conversion (Temperature)\n",
    "class TestTemperatureConversions(unittest.TestCase):\n",
    "\n",
    "    def setUp(self):\n",
    "        print(\"Setting up Temperature tests...\")\n",
    "\n",
    "    def tearDown(self):\n",
    "        print(\"Tearing down Temperature tests...\")\n",
    "\n",
    "# Celsius to Fahrenheit\n",
    "    def test_celsius_to_fahrenheit(self):\n",
    "        self.assertAlmostEqual(celsius_to_fahrenheit(0), 32)\n",
    "        self.assertAlmostEqual(celsius_to_fahrenheit(100), 212)\n",
    "    \n",
    "# Fahrenheit to Celsius\n",
    "    def test_fahrenheit_to_celsius(self):\n",
    "        self.assertAlmostEqual(fahrenheit_to_celsius(32), 0)\n",
    "        self.assertAlmostEqual(fahrenheit_to_celsius(212), 100)\n",
    "    \n",
    "# Celsius to Kelvin\n",
    "    def test_celsius_to_kelvin(self):\n",
    "        self.assertAlmostEqual(celsius_to_kelvin(0), 273.15)\n",
    "        self.assertAlmostEqual(celsius_to_kelvin(100), 373.15)\n",
    "    \n",
    "# Kelvin to Celsius\n",
    "    def test_kelvin_to_celsius(self):\n",
    "        self.assertAlmostEqual(kelvin_to_celsius(273.15), 0)\n",
    "        self.assertAlmostEqual(kelvin_to_celsius(373.15), 100)\n",
    "\n",
    "# Unit Conversion (Distance)\n",
    "\n",
    "class TestDistanceConversions(unittest.TestCase):\n",
    "\n",
    "    def setUp(self):\n",
    "        print(\"Setting up Distance tests...\")\n",
    "\n",
    "    def tearDown(self):\n",
    "        print(\"Tearing down Distance tests...\")\n",
    "\n",
    "# Miles to Kilometers\n",
    "    def test_miles_to_kilometers(self):\n",
    "        self.assertAlmostEqual(miles_to_kilometers(1), 1.609344)\n",
    "        self.assertAlmostEqual(miles_to_kilometers(5), 8.04672)\n",
    "    \n",
    "# Kilometers to Miles\n",
    "    def test_kilometers_to_miles(self):\n",
    "        self.assertAlmostEqual(kilometers_to_miles(1.6), 0.9942, places=4)\n",
    "        self.assertAlmostEqual(kilometers_to_miles(8.0), 4.97097, places=4)\n",
    "    \n",
    "# Feet to Meters\n",
    "    def test_feet_to_meters(self):\n",
    "        self.assertAlmostEqual(feet_to_meters(1), 0.3048)\n",
    "        self.assertAlmostEqual(feet_to_meters(10), 3.048)\n",
    "    \n",
    "# Meters to Feet\n",
    "    def test_meters_to_feet(self):\n",
    "        self.assertAlmostEqual(meters_to_feet(1), 3.28084)\n",
    "        self.assertAlmostEqual(meters_to_feet(10), 32.8084)\n",
    "\n",
    "# Unit Conversion (Weight)\n",
    "\n",
    "class TestWeightConversions(unittest.TestCase):\n",
    "\n",
    "    def setUp(self):\n",
    "        print(\"Setting up Weight tests...\")\n",
    "\n",
    "    def tearDown(self):\n",
    "        print(\"Tearing down Weight tests...\")\n",
    "\n",
    "# Pounds to Kilograms\n",
    "    def test_pounds_to_kilograms(self):\n",
    "        self.assertAlmostEqual(pounds_to_kilograms(1), 0.453592)\n",
    "        self.assertAlmostEqual(pounds_to_kilograms(10), 4.53592)\n",
    "    \n",
    "# Kilograms to Pounds\n",
    "    def test_kilograms_to_pounds(self):\n",
    "        self.assertAlmostEqual(kilograms_to_pounds(0.453592), 1, places=4)\n",
    "        self.assertAlmostEqual(kilograms_to_pounds(4.53592), 10, places=4)\n",
    "\n",
    "if __name__ == '__main__':\n",
    "    unittest.main(argv=['first-arg-is-ignored'], exit=False)"
   ]
  },
  {
   "cell_type": "code",
   "execution_count": null,
   "metadata": {},
   "outputs": [],
   "source": []
  }
 ],
 "metadata": {
  "kernelspec": {
   "display_name": "Python 3 (ipykernel)",
   "language": "python",
   "name": "python3"
  },
  "language_info": {
   "codemirror_mode": {
    "name": "ipython",
    "version": 3
   },
   "file_extension": ".py",
   "mimetype": "text/x-python",
   "name": "python",
   "nbconvert_exporter": "python",
   "pygments_lexer": "ipython3",
   "version": "3.12.5"
  }
 },
 "nbformat": 4,
 "nbformat_minor": 4
}
