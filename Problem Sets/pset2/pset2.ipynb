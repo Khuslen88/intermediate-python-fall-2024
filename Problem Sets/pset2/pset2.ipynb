{
 "cells": [
  {
   "cell_type": "markdown",
   "metadata": {},
   "source": [
    "# PSET2 - Software Engineering for DS"
   ]
  },
  {
   "cell_type": "markdown",
   "metadata": {},
   "source": [
    "This problem set is very open ended. You will create a local package and then demonstrate its use. This package has the following requirements:\n",
    "\n",
    "- The package should have a focus or direction (i.e. it shouldn't be a random collection of functions).\n",
    "- There should be at least three functions/methods in the package.\n",
    "- Each function should have a clear docstring.\n",
    "\n",
    "Good luck!"
   ]
  },
  {
   "cell_type": "code",
   "execution_count": 56,
   "metadata": {},
   "outputs": [],
   "source": [
    "import pandas as pd\n",
    "import numpy as np"
   ]
  },
  {
   "cell_type": "code",
   "execution_count": 67,
   "metadata": {},
   "outputs": [],
   "source": [
    "# temperature.py\n",
    "\n",
    "def celsius_to_fahrenheit(celsius):\n",
    "    \"\"\" Converts Celsius to Fahrenheit. \"\"\"\n",
    "    return (celsius * 1.8) + 32\n",
    "\n",
    "def fahrenheit_to_celsius(fahrenheit):\n",
    "    \"\"\" Converts Fahrenheit to Celsius \"\"\"\n",
    "    return (fahrenheit - 32) * 1.8\n",
    "\n",
    "def celsius_to_kelvin(celsius):\n",
    "    \"\"\" Converts Celsius to Kelvin \"\"\"\n",
    "    return celsius + 273.15\n",
    "\n",
    "def kelvin_to_celsius(kelvin):\n",
    "    \"\"\" Converts Kelvin to Celsius \"\"\"\n",
    "    return kelvin - 273.15\n",
    "\n",
    "# distance.py\n",
    "\n",
    "def miles_to_kilometers(miles):\n",
    "    \"\"\" Converts miles to kilometers \"\"\"\n",
    "    return miles * 1.6\n",
    "\n",
    "def kilometers_to_miles(kilometers):\n",
    "    \"\"\" Converts kilometers to miles \"\"\"\n",
    "    return kilometers * 0.621371\n",
    "\n",
    "def feet_to_meters(feet):\n",
    "    \"\"\" Converts feet to meters \"\"\"\n",
    "    return feet * 0.3048\n",
    "\n",
    "def meters_to_feet(meters):\n",
    "    \"\"\" Converts meters to feet \"\"\"\n",
    "    return meters * 3.28084\n",
    "\n",
    "# weight.py\n",
    "\n",
    "def pounds_to_kilograms(pounds):\n",
    "    \"\"\" Converts pounds to kilograms \"\"\"\n",
    "    return pounds * 0.453592\n",
    "\n",
    "def kilograms_to_pounds(kilograms):\n",
    "    \"\"\" Converts kilograms to pounds \"\"\"\n",
    "    return kilograms / 0.453592"
   ]
  },
  {
   "cell_type": "code",
   "execution_count": 69,
   "metadata": {},
   "outputs": [],
   "source": [
    "from pset2.unit_converter import temperature"
   ]
  },
  {
   "cell_type": "code",
   "execution_count": 77,
   "metadata": {},
   "outputs": [
    {
     "name": "stdout",
     "output_type": "stream",
     "text": [
      "25 celsius is 77.0 fahrenheit.\n"
     ]
    }
   ],
   "source": [
    "celsius = 25\n",
    "fahrenheit = celsius_to_fahrenheit(celsius)\n",
    "print(f\"{celsius} celsius is {fahrenheit} fahrenheit.\")"
   ]
  },
  {
   "cell_type": "code",
   "execution_count": 72,
   "metadata": {},
   "outputs": [],
   "source": [
    "from pset2.unit_converter import distance, weight"
   ]
  },
  {
   "cell_type": "code",
   "execution_count": 76,
   "metadata": {},
   "outputs": [
    {
     "name": "stdout",
     "output_type": "stream",
     "text": [
      "25 feet is 7.62 meters\n"
     ]
    }
   ],
   "source": [
    "feet = 25\n",
    "meter = feet_to_meters(feet)\n",
    "print(f\"{feet} feet is {meter} meters\")"
   ]
  },
  {
   "cell_type": "code",
   "execution_count": 78,
   "metadata": {},
   "outputs": [
    {
     "name": "stdout",
     "output_type": "stream",
     "text": [
      "25 kg is 55.115610504594436 lbs.\n"
     ]
    }
   ],
   "source": [
    "kilograms = 25\n",
    "pounds = kilograms_to_pounds(kilograms)\n",
    "print(f\"{kilograms} kg is {pounds} lbs.\")"
   ]
  },
  {
   "cell_type": "code",
   "execution_count": null,
   "metadata": {},
   "outputs": [],
   "source": []
  }
 ],
 "metadata": {
  "kernelspec": {
   "display_name": "Python 3 (ipykernel)",
   "language": "python",
   "name": "python3"
  },
  "language_info": {
   "codemirror_mode": {
    "name": "ipython",
    "version": 3
   },
   "file_extension": ".py",
   "mimetype": "text/x-python",
   "name": "python",
   "nbconvert_exporter": "python",
   "pygments_lexer": "ipython3",
   "version": "3.8.17"
  }
 },
 "nbformat": 4,
 "nbformat_minor": 4
}
