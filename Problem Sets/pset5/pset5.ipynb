{
 "cells": [
  {
   "cell_type": "code",
   "execution_count": 3,
   "id": "1e10d124-30c1-4276-947f-3506c67026a1",
   "metadata": {},
   "outputs": [
    {
     "ename": "ModuleNotFoundError",
     "evalue": "No module named 'plotly'",
     "output_type": "error",
     "traceback": [
      "\u001b[0;31m---------------------------------------------------------------------------\u001b[0m",
      "\u001b[0;31mModuleNotFoundError\u001b[0m                       Traceback (most recent call last)",
      "Cell \u001b[0;32mIn[3], line 6\u001b[0m\n\u001b[1;32m      4\u001b[0m \u001b[38;5;28;01mimport\u001b[39;00m \u001b[38;5;21;01mmatplotlib\u001b[39;00m\u001b[38;5;21;01m.\u001b[39;00m\u001b[38;5;21;01mpyplot\u001b[39;00m \u001b[38;5;28;01mas\u001b[39;00m \u001b[38;5;21;01mplt\u001b[39;00m\n\u001b[1;32m      5\u001b[0m \u001b[38;5;28;01mimport\u001b[39;00m \u001b[38;5;21;01mseaborn\u001b[39;00m \u001b[38;5;28;01mas\u001b[39;00m \u001b[38;5;21;01msns\u001b[39;00m\n\u001b[0;32m----> 6\u001b[0m \u001b[38;5;28;01mimport\u001b[39;00m \u001b[38;5;21;01mplotly\u001b[39;00m\u001b[38;5;21;01m.\u001b[39;00m\u001b[38;5;21;01mexpress\u001b[39;00m \u001b[38;5;28;01mas\u001b[39;00m \u001b[38;5;21;01mpx\u001b[39;00m\n",
      "\u001b[0;31mModuleNotFoundError\u001b[0m: No module named 'plotly'"
     ]
    }
   ],
   "source": [
    "import streamlit as st\n",
    "import pandas as pd\n",
    "import numpy as np\n",
    "import matplotlib.pyplot as plt\n",
    "import seaborn as sns\n",
    "import plotly.express as px"
   ]
  },
  {
   "cell_type": "code",
   "execution_count": 4,
   "id": "e5e303a4-8b18-4451-b87b-8cd485144ecf",
   "metadata": {},
   "outputs": [
    {
     "name": "stdout",
     "output_type": "stream",
     "text": [
      "Collecting plotly_express==0.4.0\n",
      "  Downloading plotly_express-0.4.0-py2.py3-none-any.whl.metadata (1.7 kB)\n",
      "Requirement already satisfied: pandas>=0.20.0 in /Users/huslen/Library/jupyterlab-desktop/jlab_server/lib/python3.12/site-packages (from plotly_express==0.4.0) (2.2.2)\n",
      "Collecting plotly>=4.0.0 (from plotly_express==0.4.0)\n",
      "  Downloading plotly-5.24.1-py3-none-any.whl.metadata (7.3 kB)\n",
      "Collecting statsmodels>=0.9.0 (from plotly_express==0.4.0)\n",
      "  Downloading statsmodels-0.14.4-cp312-cp312-macosx_10_13_x86_64.whl.metadata (9.2 kB)\n",
      "Requirement already satisfied: scipy>=0.18 in /Users/huslen/Library/jupyterlab-desktop/jlab_server/lib/python3.12/site-packages (from plotly_express==0.4.0) (1.14.1)\n",
      "Collecting patsy>=0.5 (from plotly_express==0.4.0)\n",
      "  Downloading patsy-0.5.6-py2.py3-none-any.whl.metadata (3.5 kB)\n",
      "Requirement already satisfied: numpy>=1.11 in /Users/huslen/Library/jupyterlab-desktop/jlab_server/lib/python3.12/site-packages (from plotly_express==0.4.0) (2.1.0)\n",
      "Requirement already satisfied: python-dateutil>=2.8.2 in /Users/huslen/Library/jupyterlab-desktop/jlab_server/lib/python3.12/site-packages (from pandas>=0.20.0->plotly_express==0.4.0) (2.9.0)\n",
      "Requirement already satisfied: pytz>=2020.1 in /Users/huslen/Library/jupyterlab-desktop/jlab_server/lib/python3.12/site-packages (from pandas>=0.20.0->plotly_express==0.4.0) (2024.1)\n",
      "Requirement already satisfied: tzdata>=2022.7 in /Users/huslen/Library/jupyterlab-desktop/jlab_server/lib/python3.12/site-packages (from pandas>=0.20.0->plotly_express==0.4.0) (2024.1)\n",
      "Requirement already satisfied: six in /Users/huslen/Library/jupyterlab-desktop/jlab_server/lib/python3.12/site-packages (from patsy>=0.5->plotly_express==0.4.0) (1.16.0)\n",
      "Requirement already satisfied: tenacity>=6.2.0 in /Users/huslen/Library/jupyterlab-desktop/jlab_server/lib/python3.12/site-packages (from plotly>=4.0.0->plotly_express==0.4.0) (9.0.0)\n",
      "Requirement already satisfied: packaging in /Users/huslen/Library/jupyterlab-desktop/jlab_server/lib/python3.12/site-packages (from plotly>=4.0.0->plotly_express==0.4.0) (24.1)\n",
      "Downloading plotly_express-0.4.0-py2.py3-none-any.whl (2.1 kB)\n",
      "Downloading patsy-0.5.6-py2.py3-none-any.whl (233 kB)\n",
      "Downloading plotly-5.24.1-py3-none-any.whl (19.1 MB)\n",
      "\u001b[2K   \u001b[90m━━━━━━━━━━━━━━━━━━━━━━━━━━━━━━━━━━━━━━━━\u001b[0m \u001b[32m19.1/19.1 MB\u001b[0m \u001b[31m6.3 MB/s\u001b[0m eta \u001b[36m0:00:00\u001b[0ma \u001b[36m0:00:01\u001b[0m\n",
      "\u001b[?25hDownloading statsmodels-0.14.4-cp312-cp312-macosx_10_13_x86_64.whl (10.2 MB)\n",
      "\u001b[2K   \u001b[90m━━━━━━━━━━━━━━━━━━━━━━━━━━━━━━━━━━━━━━━━\u001b[0m \u001b[32m10.2/10.2 MB\u001b[0m \u001b[31m5.4 MB/s\u001b[0m eta \u001b[36m0:00:00\u001b[0ma \u001b[36m0:00:01\u001b[0m\n",
      "\u001b[?25hInstalling collected packages: plotly, patsy, statsmodels, plotly_express\n",
      "Successfully installed patsy-0.5.6 plotly-5.24.1 plotly_express-0.4.0 statsmodels-0.14.4\n"
     ]
    }
   ],
   "source": [
    "!pip install plotly_express==0.4.0"
   ]
  },
  {
   "cell_type": "code",
   "execution_count": null,
   "id": "04d2c763-4203-48eb-8b1f-f69e34dd42a5",
   "metadata": {},
   "outputs": [],
   "source": [
    "st.title(\"Visualize Your Data\")\n",
    "\n",
    "# Drop-down input for data categories\n",
    "option = st.selectbox(\"Choose a category\", [\"Category A\", \"Category B\", \"Category C\"])\n",
    "\n",
    "# Text input for numerical value\n",
    "value = st.number_input(f\"Enter a value for {option}\", min_value=0)\n",
    "\n",
    "# Collect and display data\n",
    "if \"data\" not in st.session_state:\n",
    "    st.session_state[\"data\"] = pd.DataFrame(columns=[\"Category\", \"Value\"])\n",
    "\n",
    "if st.button(\"Add Data\"):\n",
    "    st.session_state[\"data\"] = pd.concat([st.session_state[\"data\"], pd.DataFrame([[option, value]], columns=[\"Category\", \"Value\"])])\n",
    "    st.write(\"Current Data\", st.session_state[\"data\"])\n",
    "\n",
    "# Plot the data\n",
    "if not st.session_state[\"data\"].empty:\n",
    "    fig, ax = plt.subplots()\n",
    "    st.session_state[\"data\"].groupby(\"Category\").sum().plot(kind=\"bar\", ax=ax)\n",
    "    st.pyplot(fig)"
   ]
  }
 ],
 "metadata": {
  "kernelspec": {
   "display_name": "Python 3 (ipykernel)",
   "language": "python",
   "name": "python3"
  },
  "language_info": {
   "codemirror_mode": {
    "name": "ipython",
    "version": 3
   },
   "file_extension": ".py",
   "mimetype": "text/x-python",
   "name": "python",
   "nbconvert_exporter": "python",
   "pygments_lexer": "ipython3",
   "version": "3.12.5"
  }
 },
 "nbformat": 4,
 "nbformat_minor": 5
}
