{
 "cells": [
  {
   "cell_type": "markdown",
   "metadata": {},
   "source": [
    "# PSET4 - Web Scraping"
   ]
  },
  {
   "cell_type": "markdown",
   "metadata": {},
   "source": [
    "This week you will be scraping job postings from one of Mongolia's top job boards: Zangia.mn (formerly BizNetwork). We will collect the following features from the site:\n",
    "\n",
    "- Job title\n",
    "- Job description\n",
    "- Job sector\n",
    "- Salary range\n",
    "\n",
    "If you go to https://www.zangia.mn/job/list you will see all the job listings. There are several pages of listings. The recommended process is:\n",
    "\n",
    "1. Make a list of job post results.\n",
    "2. Scrape the listing URLs from the job list pages (1 through n).\n",
    "3. Use the resulting URL list to scrape the features to a dataframe.\n",
    "\n",
    "The final dataframe should include each of the features above. Not every job post will have each feature, but the resulting data should be a clean dataframe with the data in the right location."
   ]
  },
  {
   "cell_type": "code",
   "execution_count": 1,
   "metadata": {},
   "outputs": [],
   "source": [
    "import requests\n",
    "from bs4 import BeautifulSoup\n",
    "import pandas as pd\n",
    "import numpy as np"
   ]
  },
  {
   "cell_type": "code",
   "execution_count": 2,
   "metadata": {},
   "outputs": [],
   "source": [
    "response = requests.get('https://www.zangia.mn/job/list')"
   ]
  },
  {
   "cell_type": "code",
   "execution_count": 3,
   "metadata": {},
   "outputs": [
    {
     "data": {
      "text/plain": [
       "200"
      ]
     },
     "execution_count": 3,
     "metadata": {},
     "output_type": "execute_result"
    }
   ],
   "source": [
    "response.status_code"
   ]
  },
  {
   "cell_type": "code",
   "execution_count": 4,
   "metadata": {},
   "outputs": [],
   "source": [
    "soup = BeautifulSoup(response.content)"
   ]
  },
  {
   "cell_type": "code",
   "execution_count": 5,
   "metadata": {},
   "outputs": [],
   "source": [
    "job_titles = soup.find_all(\"div\", {\"class\":\"ad\"})"
   ]
  },
  {
   "cell_type": "code",
   "execution_count": 6,
   "metadata": {},
   "outputs": [
    {
     "data": {
      "text/plain": [
       "<a href=\"job/_jr39pn90ff\"><b>Смарт оператор</b><span class=\"fsal\">1,200,000 - 1,500,000 Тохиролцоно</span><span class=\"floca\">Баянзүрх дүүрэг</span><em><b>2024-11-13</b>-н хүртэл анкет хүлээн авна</em><span class=\"sdate\">10 сарын 22. 9:00</span></a>"
      ]
     },
     "execution_count": 6,
     "metadata": {},
     "output_type": "execute_result"
    }
   ],
   "source": [
    "job_titles[0].find_all(\"a\")[0]"
   ]
  },
  {
   "cell_type": "code",
   "execution_count": 7,
   "metadata": {},
   "outputs": [
    {
     "data": {
      "text/plain": [
       "'Смарт оператор'"
      ]
     },
     "execution_count": 7,
     "metadata": {},
     "output_type": "execute_result"
    }
   ],
   "source": [
    "job_titles[0].find_all(\"b\")[0].text.strip()"
   ]
  },
  {
   "cell_type": "code",
   "execution_count": 8,
   "metadata": {},
   "outputs": [
    {
     "name": "stdout",
     "output_type": "stream",
     "text": [
      "1,200,000 - 1,500,000 Тохиролцоно\n"
     ]
    }
   ],
   "source": [
    "salaries = job_titles[0].find_all(\"span\")[0].text.strip()\n",
    "print(salaries)"
   ]
  },
  {
   "cell_type": "code",
   "execution_count": 9,
   "metadata": {},
   "outputs": [],
   "source": [
    "listing_title = []\n",
    "listing_salary = []\n",
    "for job_title in job_titles:\n",
    "    title = job_title.find_all(\"b\")[0].text\n",
    "    salary = job_title.find_all(\"span\")[0].text\n",
    "    listing_title.append(title)\n",
    "    listing_salary.append(salary)"
   ]
  },
  {
   "cell_type": "code",
   "execution_count": 10,
   "metadata": {
    "scrolled": true
   },
   "outputs": [
    {
     "data": {
      "text/plain": [
       "['1,200,000 - 1,500,000 Тохиролцоно',\n",
       " '2,100,000 - 2,500,000',\n",
       " '1,500,000 - 1,800,000',\n",
       " '2,100,000 - 2,500,000',\n",
       " '2,100,000 - 2,500,000',\n",
       " '2,100,000 - 2,500,000',\n",
       " '2,500,000 - 3,000,000',\n",
       " '2,100,000 - 2,500,000',\n",
       " '2,100,000 - 2,500,000',\n",
       " '3,000,000 - 4,000,000',\n",
       " '1,800,000 - 2,100,000',\n",
       " '2,500,000 - 3,000,000',\n",
       " '2,500,000 - 3,000,000',\n",
       " '1,500,000 - 1,800,000',\n",
       " '2,500,000 - 3,000,000',\n",
       " '2,500,000 - 3,000,000',\n",
       " '2,100,000 - 2,500,000',\n",
       " '2,100,000 - 2,500,000',\n",
       " '2,100,000 - 2,500,000 Тохиролцоно',\n",
       " '1,800,000 - 2,100,000',\n",
       " '2,100,000 - 2,500,000 Тохиролцоно',\n",
       " '2,100,000 - 2,500,000',\n",
       " '1,800,000 - 2,100,000',\n",
       " ' Тохиролцоно',\n",
       " '1,800,000 - 2,100,000',\n",
       " '2,100,000 - 2,500,000',\n",
       " '1,500,000 - 1,800,000',\n",
       " '2,100,000 - 2,500,000',\n",
       " ' Тохиролцоно',\n",
       " '2,500,000 - 3,000,000 Тохиролцоно',\n",
       " '2,500,000 - 3,000,000 Тохиролцоно',\n",
       " '1,500,000 - 1,800,000',\n",
       " '4,000,000 - 5,000,000 Тохиролцоно',\n",
       " '2,100,000 - 2,500,000',\n",
       " '2,100,000 - 2,500,000',\n",
       " '4,000,000 - 5,000,000',\n",
       " '2,500,000 - 3,000,000',\n",
       " '1,800,000 - 2,100,000',\n",
       " '2,500,000 - 3,000,000',\n",
       " '2,100,000 - 2,500,000',\n",
       " '4,000,000 - 5,000,000',\n",
       " '2,500,000 - 3,000,000',\n",
       " '1,500,000 - 1,800,000 Тохиролцоно',\n",
       " '7,000,000 - 8,000,000',\n",
       " '1,800,000 - 2,100,000',\n",
       " '1,800,000 - 2,100,000',\n",
       " '2,500,000 - 3,000,000',\n",
       " '2,100,000 - 2,500,000',\n",
       " '3,000,000 - 4,000,000',\n",
       " '2,100,000 - 2,500,000',\n",
       " '1,800,000 - 2,100,000',\n",
       " '1,500,000 - 1,800,000',\n",
       " '2,100,000 - 2,500,000',\n",
       " '2,500,000 - 3,000,000',\n",
       " '2,500,000 - 3,000,000',\n",
       " '2,100,000 - 2,500,000',\n",
       " '2,500,000 - 3,000,000',\n",
       " '2,100,000 - 2,500,000',\n",
       " '1,200,000 - 1,500,000',\n",
       " '3,000,000 - 4,000,000',\n",
       " '2,100,000 - 2,500,000',\n",
       " '2,500,000 - 3,000,000',\n",
       " '1,800,000 - 2,100,000',\n",
       " '2,100,000 - 2,500,000',\n",
       " '30,000 /цагийн/',\n",
       " '3,000,000 - 4,000,000',\n",
       " '2,100,000 - 2,500,000',\n",
       " '1,500,000 - 1,800,000',\n",
       " '1,800,000 - 2,100,000',\n",
       " '2,100,000 - 2,500,000',\n",
       " '2,500,000 - 3,000,000 Тохиролцоно',\n",
       " '4,000,000 - 5,000,000',\n",
       " '3,000,000 - 4,000,000',\n",
       " '2,500,000 - 3,000,000',\n",
       " '3,000,000 - 4,000,000',\n",
       " '2,100,000 - 2,500,000',\n",
       " '2,500,000 - 3,000,000',\n",
       " '2,100,000 - 2,500,000',\n",
       " '2,500,000 - 3,000,000',\n",
       " '2,100,000 - 2,500,000']"
      ]
     },
     "execution_count": 10,
     "metadata": {},
     "output_type": "execute_result"
    }
   ],
   "source": [
    "listing_salary"
   ]
  },
  {
   "cell_type": "code",
   "execution_count": 11,
   "metadata": {},
   "outputs": [
    {
     "data": {
      "text/html": [
       "<div>\n",
       "<style scoped>\n",
       "    .dataframe tbody tr th:only-of-type {\n",
       "        vertical-align: middle;\n",
       "    }\n",
       "\n",
       "    .dataframe tbody tr th {\n",
       "        vertical-align: top;\n",
       "    }\n",
       "\n",
       "    .dataframe thead th {\n",
       "        text-align: right;\n",
       "    }\n",
       "</style>\n",
       "<table border=\"1\" class=\"dataframe\">\n",
       "  <thead>\n",
       "    <tr style=\"text-align: right;\">\n",
       "      <th></th>\n",
       "      <th>title</th>\n",
       "      <th>salary</th>\n",
       "    </tr>\n",
       "  </thead>\n",
       "  <tbody>\n",
       "    <tr>\n",
       "      <th>0</th>\n",
       "      <td>Смарт оператор</td>\n",
       "      <td>1,200,000 - 1,500,000 Тохиролцоно</td>\n",
       "    </tr>\n",
       "    <tr>\n",
       "      <th>1</th>\n",
       "      <td>Химич</td>\n",
       "      <td>2,100,000 - 2,500,000</td>\n",
       "    </tr>\n",
       "    <tr>\n",
       "      <th>2</th>\n",
       "      <td>ХУДАЛДАГЧ,КАСС / ЗАЙСАН САЛБАРТ/</td>\n",
       "      <td>1,500,000 - 1,800,000</td>\n",
       "    </tr>\n",
       "    <tr>\n",
       "      <th>3</th>\n",
       "      <td>НЯГТЛАН БОДОГЧ</td>\n",
       "      <td>2,100,000 - 2,500,000</td>\n",
       "    </tr>\n",
       "    <tr>\n",
       "      <th>4</th>\n",
       "      <td>ХУДАЛДААНЫ ТӨЛӨӨЛӨГЧ-ЖОЛООЧ</td>\n",
       "      <td>2,100,000 - 2,500,000</td>\n",
       "    </tr>\n",
       "    <tr>\n",
       "      <th>...</th>\n",
       "      <td>...</td>\n",
       "      <td>...</td>\n",
       "    </tr>\n",
       "    <tr>\n",
       "      <th>75</th>\n",
       "      <td>Токарьчин, засварчин</td>\n",
       "      <td>2,100,000 - 2,500,000</td>\n",
       "    </tr>\n",
       "    <tr>\n",
       "      <th>76</th>\n",
       "      <td>Моторчин, засварчин</td>\n",
       "      <td>2,500,000 - 3,000,000</td>\n",
       "    </tr>\n",
       "    <tr>\n",
       "      <th>77</th>\n",
       "      <td>Автын цахилгаанчин, засварчин</td>\n",
       "      <td>2,100,000 - 2,500,000</td>\n",
       "    </tr>\n",
       "    <tr>\n",
       "      <th>78</th>\n",
       "      <td>Автын механик</td>\n",
       "      <td>2,500,000 - 3,000,000</td>\n",
       "    </tr>\n",
       "    <tr>\n",
       "      <th>79</th>\n",
       "      <td>Хүнд машин механизмын засварчин</td>\n",
       "      <td>2,100,000 - 2,500,000</td>\n",
       "    </tr>\n",
       "  </tbody>\n",
       "</table>\n",
       "<p>80 rows × 2 columns</p>\n",
       "</div>"
      ],
      "text/plain": [
       "                               title                             salary\n",
       "0                     Смарт оператор  1,200,000 - 1,500,000 Тохиролцоно\n",
       "1                              Химич              2,100,000 - 2,500,000\n",
       "2   ХУДАЛДАГЧ,КАСС / ЗАЙСАН САЛБАРТ/              1,500,000 - 1,800,000\n",
       "3                     НЯГТЛАН БОДОГЧ              2,100,000 - 2,500,000\n",
       "4        ХУДАЛДААНЫ ТӨЛӨӨЛӨГЧ-ЖОЛООЧ              2,100,000 - 2,500,000\n",
       "..                               ...                                ...\n",
       "75              Токарьчин, засварчин              2,100,000 - 2,500,000\n",
       "76               Моторчин, засварчин              2,500,000 - 3,000,000\n",
       "77     Автын цахилгаанчин, засварчин              2,100,000 - 2,500,000\n",
       "78                     Автын механик              2,500,000 - 3,000,000\n",
       "79   Хүнд машин механизмын засварчин              2,100,000 - 2,500,000\n",
       "\n",
       "[80 rows x 2 columns]"
      ]
     },
     "execution_count": 11,
     "metadata": {},
     "output_type": "execute_result"
    }
   ],
   "source": [
    "df = pd.DataFrame({\"title\": listing_title, \"salary\": listing_salary})\n",
    "df"
   ]
  },
  {
   "cell_type": "code",
   "execution_count": 12,
   "metadata": {
    "scrolled": true
   },
   "outputs": [],
   "source": [
    "for i in range(len(df)):\n",
    "    if \"Тохиролцоно\" in df['salary'][i]:\n",
    "        df = df.drop(i)"
   ]
  },
  {
   "cell_type": "code",
   "execution_count": 13,
   "metadata": {},
   "outputs": [
    {
     "data": {
      "text/html": [
       "<div>\n",
       "<style scoped>\n",
       "    .dataframe tbody tr th:only-of-type {\n",
       "        vertical-align: middle;\n",
       "    }\n",
       "\n",
       "    .dataframe tbody tr th {\n",
       "        vertical-align: top;\n",
       "    }\n",
       "\n",
       "    .dataframe thead th {\n",
       "        text-align: right;\n",
       "    }\n",
       "</style>\n",
       "<table border=\"1\" class=\"dataframe\">\n",
       "  <thead>\n",
       "    <tr style=\"text-align: right;\">\n",
       "      <th></th>\n",
       "      <th>title</th>\n",
       "      <th>salary</th>\n",
       "    </tr>\n",
       "  </thead>\n",
       "  <tbody>\n",
       "    <tr>\n",
       "      <th>1</th>\n",
       "      <td>Химич</td>\n",
       "      <td>2,100,000 - 2,500,000</td>\n",
       "    </tr>\n",
       "    <tr>\n",
       "      <th>2</th>\n",
       "      <td>ХУДАЛДАГЧ,КАСС / ЗАЙСАН САЛБАРТ/</td>\n",
       "      <td>1,500,000 - 1,800,000</td>\n",
       "    </tr>\n",
       "    <tr>\n",
       "      <th>3</th>\n",
       "      <td>НЯГТЛАН БОДОГЧ</td>\n",
       "      <td>2,100,000 - 2,500,000</td>\n",
       "    </tr>\n",
       "    <tr>\n",
       "      <th>4</th>\n",
       "      <td>ХУДАЛДААНЫ ТӨЛӨӨЛӨГЧ-ЖОЛООЧ</td>\n",
       "      <td>2,100,000 - 2,500,000</td>\n",
       "    </tr>\n",
       "    <tr>\n",
       "      <th>5</th>\n",
       "      <td>Борлуулалтын ажилтан - (Салбар)</td>\n",
       "      <td>2,100,000 - 2,500,000</td>\n",
       "    </tr>\n",
       "    <tr>\n",
       "      <th>...</th>\n",
       "      <td>...</td>\n",
       "      <td>...</td>\n",
       "    </tr>\n",
       "    <tr>\n",
       "      <th>75</th>\n",
       "      <td>Токарьчин, засварчин</td>\n",
       "      <td>2,100,000 - 2,500,000</td>\n",
       "    </tr>\n",
       "    <tr>\n",
       "      <th>76</th>\n",
       "      <td>Моторчин, засварчин</td>\n",
       "      <td>2,500,000 - 3,000,000</td>\n",
       "    </tr>\n",
       "    <tr>\n",
       "      <th>77</th>\n",
       "      <td>Автын цахилгаанчин, засварчин</td>\n",
       "      <td>2,100,000 - 2,500,000</td>\n",
       "    </tr>\n",
       "    <tr>\n",
       "      <th>78</th>\n",
       "      <td>Автын механик</td>\n",
       "      <td>2,500,000 - 3,000,000</td>\n",
       "    </tr>\n",
       "    <tr>\n",
       "      <th>79</th>\n",
       "      <td>Хүнд машин механизмын засварчин</td>\n",
       "      <td>2,100,000 - 2,500,000</td>\n",
       "    </tr>\n",
       "  </tbody>\n",
       "</table>\n",
       "<p>70 rows × 2 columns</p>\n",
       "</div>"
      ],
      "text/plain": [
       "                               title                 salary\n",
       "1                              Химич  2,100,000 - 2,500,000\n",
       "2   ХУДАЛДАГЧ,КАСС / ЗАЙСАН САЛБАРТ/  1,500,000 - 1,800,000\n",
       "3                     НЯГТЛАН БОДОГЧ  2,100,000 - 2,500,000\n",
       "4        ХУДАЛДААНЫ ТӨЛӨӨЛӨГЧ-ЖОЛООЧ  2,100,000 - 2,500,000\n",
       "5    Борлуулалтын ажилтан - (Салбар)  2,100,000 - 2,500,000\n",
       "..                               ...                    ...\n",
       "75              Токарьчин, засварчин  2,100,000 - 2,500,000\n",
       "76               Моторчин, засварчин  2,500,000 - 3,000,000\n",
       "77     Автын цахилгаанчин, засварчин  2,100,000 - 2,500,000\n",
       "78                     Автын механик  2,500,000 - 3,000,000\n",
       "79   Хүнд машин механизмын засварчин  2,100,000 - 2,500,000\n",
       "\n",
       "[70 rows x 2 columns]"
      ]
     },
     "execution_count": 13,
     "metadata": {},
     "output_type": "execute_result"
    }
   ],
   "source": [
    "df"
   ]
  },
  {
   "cell_type": "code",
   "execution_count": 14,
   "metadata": {},
   "outputs": [],
   "source": [
    "base_url = 'https://www.zangia.mn/job/list'\n",
    "\n",
    "df_last = pd.DataFrame(df)\n",
    "df_last.to_csv('zangia_job_listings.csv', index=False)"
   ]
  },
  {
   "cell_type": "code",
   "execution_count": 15,
   "metadata": {},
   "outputs": [
    {
     "data": {
      "text/html": [
       "<div>\n",
       "<style scoped>\n",
       "    .dataframe tbody tr th:only-of-type {\n",
       "        vertical-align: middle;\n",
       "    }\n",
       "\n",
       "    .dataframe tbody tr th {\n",
       "        vertical-align: top;\n",
       "    }\n",
       "\n",
       "    .dataframe thead th {\n",
       "        text-align: right;\n",
       "    }\n",
       "</style>\n",
       "<table border=\"1\" class=\"dataframe\">\n",
       "  <thead>\n",
       "    <tr style=\"text-align: right;\">\n",
       "      <th></th>\n",
       "      <th>title</th>\n",
       "      <th>salary</th>\n",
       "    </tr>\n",
       "  </thead>\n",
       "  <tbody>\n",
       "    <tr>\n",
       "      <th>1</th>\n",
       "      <td>Химич</td>\n",
       "      <td>2,100,000 - 2,500,000</td>\n",
       "    </tr>\n",
       "    <tr>\n",
       "      <th>2</th>\n",
       "      <td>ХУДАЛДАГЧ,КАСС / ЗАЙСАН САЛБАРТ/</td>\n",
       "      <td>1,500,000 - 1,800,000</td>\n",
       "    </tr>\n",
       "    <tr>\n",
       "      <th>3</th>\n",
       "      <td>НЯГТЛАН БОДОГЧ</td>\n",
       "      <td>2,100,000 - 2,500,000</td>\n",
       "    </tr>\n",
       "    <tr>\n",
       "      <th>4</th>\n",
       "      <td>ХУДАЛДААНЫ ТӨЛӨӨЛӨГЧ-ЖОЛООЧ</td>\n",
       "      <td>2,100,000 - 2,500,000</td>\n",
       "    </tr>\n",
       "    <tr>\n",
       "      <th>5</th>\n",
       "      <td>Борлуулалтын ажилтан - (Салбар)</td>\n",
       "      <td>2,100,000 - 2,500,000</td>\n",
       "    </tr>\n",
       "    <tr>\n",
       "      <th>...</th>\n",
       "      <td>...</td>\n",
       "      <td>...</td>\n",
       "    </tr>\n",
       "    <tr>\n",
       "      <th>75</th>\n",
       "      <td>Токарьчин, засварчин</td>\n",
       "      <td>2,100,000 - 2,500,000</td>\n",
       "    </tr>\n",
       "    <tr>\n",
       "      <th>76</th>\n",
       "      <td>Моторчин, засварчин</td>\n",
       "      <td>2,500,000 - 3,000,000</td>\n",
       "    </tr>\n",
       "    <tr>\n",
       "      <th>77</th>\n",
       "      <td>Автын цахилгаанчин, засварчин</td>\n",
       "      <td>2,100,000 - 2,500,000</td>\n",
       "    </tr>\n",
       "    <tr>\n",
       "      <th>78</th>\n",
       "      <td>Автын механик</td>\n",
       "      <td>2,500,000 - 3,000,000</td>\n",
       "    </tr>\n",
       "    <tr>\n",
       "      <th>79</th>\n",
       "      <td>Хүнд машин механизмын засварчин</td>\n",
       "      <td>2,100,000 - 2,500,000</td>\n",
       "    </tr>\n",
       "  </tbody>\n",
       "</table>\n",
       "<p>70 rows × 2 columns</p>\n",
       "</div>"
      ],
      "text/plain": [
       "                               title                 salary\n",
       "1                              Химич  2,100,000 - 2,500,000\n",
       "2   ХУДАЛДАГЧ,КАСС / ЗАЙСАН САЛБАРТ/  1,500,000 - 1,800,000\n",
       "3                     НЯГТЛАН БОДОГЧ  2,100,000 - 2,500,000\n",
       "4        ХУДАЛДААНЫ ТӨЛӨӨЛӨГЧ-ЖОЛООЧ  2,100,000 - 2,500,000\n",
       "5    Борлуулалтын ажилтан - (Салбар)  2,100,000 - 2,500,000\n",
       "..                               ...                    ...\n",
       "75              Токарьчин, засварчин  2,100,000 - 2,500,000\n",
       "76               Моторчин, засварчин  2,500,000 - 3,000,000\n",
       "77     Автын цахилгаанчин, засварчин  2,100,000 - 2,500,000\n",
       "78                     Автын механик  2,500,000 - 3,000,000\n",
       "79   Хүнд машин механизмын засварчин  2,100,000 - 2,500,000\n",
       "\n",
       "[70 rows x 2 columns]"
      ]
     },
     "execution_count": 15,
     "metadata": {},
     "output_type": "execute_result"
    }
   ],
   "source": [
    "df"
   ]
  },
  {
   "cell_type": "code",
   "execution_count": null,
   "metadata": {},
   "outputs": [],
   "source": []
  }
 ],
 "metadata": {
  "kernelspec": {
   "display_name": "Python 3 (ipykernel)",
   "language": "python",
   "name": "python3"
  },
  "language_info": {
   "codemirror_mode": {
    "name": "ipython",
    "version": 3
   },
   "file_extension": ".py",
   "mimetype": "text/x-python",
   "name": "python",
   "nbconvert_exporter": "python",
   "pygments_lexer": "ipython3",
   "version": "3.12.5"
  }
 },
 "nbformat": 4,
 "nbformat_minor": 4
}
