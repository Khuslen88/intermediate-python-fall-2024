{
 "cells": [
  {
   "cell_type": "code",
   "execution_count": 6,
   "id": "1e10d124-30c1-4276-947f-3506c67026a1",
   "metadata": {},
   "outputs": [],
   "source": [
    "import streamlit as st\n",
    "import pandas as pd\n",
    "import numpy as np\n",
    "import matplotlib.pyplot as plt\n",
    "import seaborn as sns\n",
    "import plotly.express as px"
   ]
  },
  {
   "cell_type": "markdown",
   "id": "a39626bb-5de1-4326-b72b-6effbda90c8c",
   "metadata": {},
   "source": [
    "# Streamlit: Simple Data Visualization App"
   ]
  },
  {
   "cell_type": "code",
   "execution_count": 10,
   "id": "2f6c7d7e-f238-4038-9f98-bcba78acd281",
   "metadata": {},
   "outputs": [],
   "source": [
    "# Go to Code.py"
   ]
  },
  {
   "cell_type": "code",
   "execution_count": null,
   "id": "d6ec734f-3209-4584-8b85-92e1935dfc16",
   "metadata": {},
   "outputs": [],
   "source": []
  }
 ],
 "metadata": {
  "kernelspec": {
   "display_name": "Python 3 (ipykernel)",
   "language": "python",
   "name": "python3"
  },
  "language_info": {
   "codemirror_mode": {
    "name": "ipython",
    "version": 3
   },
   "file_extension": ".py",
   "mimetype": "text/x-python",
   "name": "python",
   "nbconvert_exporter": "python",
   "pygments_lexer": "ipython3",
   "version": "3.12.5"
  }
 },
 "nbformat": 4,
 "nbformat_minor": 5
}
