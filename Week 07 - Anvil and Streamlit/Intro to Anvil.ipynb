{
 "cells": [
  {
   "cell_type": "markdown",
   "metadata": {},
   "source": [
    "# Introduction to [Anvil](https://anvil.works/)\n",
    "#### Full stack web apps with nothing but Python.\n",
    "\n",
    "You can build web apps with its beautiful and intuitive user interface by just clicking, and dragging the web components. Different purpose projects such as machine learning deployment, dashboard and small business websites can be built. \n",
    "\n",
    "You can even use its Anvil Runtime Engine open source technology to export your website and host it on your own server. "
   ]
  },
  {
   "cell_type": "markdown",
   "metadata": {},
   "source": [
    "#### We will build a simple web page that shows HTTP Status Codes with cats\n",
    "\n",
    "1. We will use **https://http.cat/** API to get the cat pictures with HTTP Status codes\n",
    "    * **API** is the acronym for Application Programming Interface, which is a software intermediary that allows two applications to talk to each other. Each time you use an app like Facebook, send an instant message, or check the weather on your phone, you’re using an API.\n",
    "    * When you send a request to the API, it will send a response with the codes\n",
    "      \n",
    "| Status Code | Definition |\n",
    "|---|---|\n",
    "| 100 | Continue |\n",
    "| 101 | Switching Protocols |\n",
    "| 200 | OK |\n",
    "| 201 | Created |\n",
    "| 202 | Accepted |\n",
    "| 204 | No Content |\n",
    "| 206 | Partial Content |\n",
    "| 207 | Multi-Status |\n",
    "| 300 | Multiple Choices |\n",
    "| 301 | Moved Permanently |\n",
    "| 302 | Found |\n",
    "| 303 | See Other |\n",
    "| 304 | Not Modified |\n",
    "| 305 | Use Proxy |\n",
    "| 307 | Temporary Redirect |\n",
    "| 400 | Bad Request |\n",
    "| 401 | Unauthorized |\n",
    "| 402 | Payment Required |\n",
    "| 403 | Forbidden |\n",
    "| 404 | Not Found |\n",
    "| 405 | Method Not Allowed |\n",
    "| 406 | Not Acceptable |\n",
    "| 408 | Request Timeout |\n",
    "| 409 | Conflict |\n",
    "| 410 | Gone |\n",
    "| 411 | Length Required |\n",
    "| 412 | Precondition Failed |\n",
    "| 413 | Payload Too large |\n",
    "| 414 | Request-URI Too Long |\n",
    "| 415 | Unsupported Media Type |\n",
    "| 416 | Request Range Not Satisfiable |\n",
    "| 417 | Expectation Failed |\n",
    "| 418 | I'm a teapot |\n",
    "| 420 | Enhance Your Calm |\n",
    "| 421 | Misdirected Request |\n",
    "| 422 | Unprocessable Entity |\n",
    "| 423 | Locked |\n",
    "| 424 | Failed Dependency |\n",
    "| 425 | Unordered Collection |\n",
    "| 426 | Upgrade Required |\n",
    "| 427 | Too Many Requests |\n",
    "| 431 | Requests Header Fields Too Large |\n",
    "| 444 | No Response |\n",
    "| 450 | Blocked by Windows parental Controls |\n",
    "| 451 | Unavailable For legal reasons |\n",
    "| 499 | Client Closed Request |\n",
    "| 500 | Internal Server Error |\n",
    "| 501 | Not Implemented |\n",
    "| 502 | Bad Gateway |\n",
    "| 503 | Service Unavailable |\n",
    "| 504 | Gateway Timeout |\n",
    "| 506 | Variant Also Negotiates |\n",
    "| 507 | Insufficient Storage |\n",
    "| 508 | Loop Detected |\n",
    "| 509 | Bandwidth Limit exceeded |\n",
    "| 510 | Not Extended |\n",
    "| 511 | Network Authentication Required |\n",
    "| 599 | Network Connect Timeout Error |\n",
    "\n",
    "\n",
    "2. In this specific cat API we just need to send requests with the following url structure: `https://http.cat/+`*status code* . Example: https://http.cat/100"
   ]
  },
  {
   "cell_type": "markdown",
   "metadata": {},
   "source": [
    "![\"Contine\"](https://http.cat/100)"
   ]
  },
  {
   "cell_type": "markdown",
   "metadata": {},
   "source": [
    "3. We will make a simple web app that gets the user's status code as input and concatenate it with the cat API and simply embed the picture. **Example** below illustrates the simple web app:\n"
   ]
  },
  {
   "cell_type": "code",
   "execution_count": 2,
   "metadata": {},
   "outputs": [
    {
     "name": "stdin",
     "output_type": "stream",
     "text": [
      "What is your status code 510\n"
     ]
    },
    {
     "name": "stderr",
     "output_type": "stream",
     "text": [
      "/var/folders/0w/l49mbndn0z94w41skb0zttjw0000gp/T/ipykernel_60274/77715828.py:4: DeprecationWarning: Importing display from IPython.core.display is deprecated since IPython 7.14, please import from IPython display\n",
      "  from IPython.core.display import Image, display\n"
     ]
    },
    {
     "data": {
      "image/jpeg": "[encoded data removed]",
      "text/plain": [
       "<IPython.core.display.Image object>"
      ]
     },
     "metadata": {
      "image/jpeg": {
       "unconfined": true
      }
     },
     "output_type": "display_data"
    }
   ],
   "source": [
    "user_status_code = input(\"What is your status code\")\n",
    "url = \"https://http.cat/\"+user_status_code+\".jpg\"\n",
    "\n",
    "from IPython.core.display import Image, display\n",
    "display(Image(url, unconfined=True))"
   ]
  },
  {
   "cell_type": "markdown",
   "metadata": {},
   "source": [
    "### Step 1: To create Anvil front-end user interface\n",
    "1. You can choose the theme whatever you want. I have chosen Material Theme\n",
    "2. Create **Label** on the left\n",
    "3. Create **drop-down** on the center. Copy status codes and definition from above and paste it on the **items** property on the drop-down\n",
    "4. Create CAT ME **button** on the right.\n",
    "5. Create **image** component on bottom with display-mode:original\n",
    "\n",
    "Your web page should look like this:\n",
    "\n",
    "![](images/cat1.png)"
   ]
  },
  {
   "cell_type": "markdown",
   "metadata": {},
   "source": [
    "### Step 2: Connect the Cat API with the **CAT ME** button\n",
    "1. Click on the **CAT ME** button and go to the **EVENTS** section and go to the **click**\n",
    "2. You should should see the button events that is now nothing but with **pass**. You can test the button click by clearing **pass** and typing `alert(\"hello world\")` and run the app\n",
    "3. If it works as you expected, move on to the functionality.\n",
    "4. Get the drop-down's value by: \n",
    "```python\n",
    "drop_down_value = self.drop_down_1.selected_value\n",
    "```\n",
    "5. Save the status code by slicing the drop_down_value\n",
    "```python\n",
    "status_code_sliced = drop_down_value[0:3]\n",
    "```\n",
    "6. Concatenate the status_code with the Cat API and make the URL\n",
    "```python\n",
    "url = \"https://http.cat/\"+status_code_sliced+\".jpg\"\n",
    "```\n",
    "7. Set the **image** property's image by setting its source to url variable\n",
    "```python\n",
    "self.image_1.source = url\n",
    "```\n",
    "\n",
    "Final code should look like this:\n",
    "![](images/cat2.png)\n"
   ]
  },
  {
   "cell_type": "markdown",
   "metadata": {},
   "source": [
    "### That is it. Make sure everything works properly! \n",
    "### The CAT ME web application link here: https://cat-me.anvil.app/\n",
    "Your final web-page should look like this:\n",
    "![](images/cat3.png)"
   ]
  },
  {
   "cell_type": "markdown",
   "metadata": {},
   "source": [
    "#### You can privately share or publicly share your web-application\n",
    "![](images/cat_publish.png)"
   ]
  },
  {
   "cell_type": "code",
   "execution_count": null,
   "metadata": {},
   "outputs": [],
   "source": []
  }
 ],
 "metadata": {
  "kernelspec": {
   "display_name": "Python 3 (ipykernel)",
   "language": "python",
   "name": "python3"
  },
  "language_info": {
   "codemirror_mode": {
    "name": "ipython",
    "version": 3
   },
   "file_extension": ".py",
   "mimetype": "text/x-python",
   "name": "python",
   "nbconvert_exporter": "python",
   "pygments_lexer": "ipython3",
   "version": "3.8.17"
  }
 },
 "nbformat": 4,
 "nbformat_minor": 4
}
