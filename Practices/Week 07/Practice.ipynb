{
 "cells": [
  {
   "cell_type": "code",
   "execution_count": 1,
   "id": "d5895f58-8548-4075-9530-a1192a3a0dd9",
   "metadata": {
    "collapsed": true,
    "jupyter": {
     "outputs_hidden": true
    },
    "scrolled": true,
    "tags": []
   },
   "outputs": [
    {
     "name": "stdout",
     "output_type": "stream",
     "text": [
      "Requirement already satisfied: streamlit in /Users/huslen/Library/jupyterlab-desktop/jlab_server/lib/python3.8/site-packages (1.39.0)\n",
      "Requirement already satisfied: altair<6,>=4.0 in /Users/huslen/Library/jupyterlab-desktop/jlab_server/lib/python3.8/site-packages (from streamlit) (5.4.1)\n",
      "Requirement already satisfied: blinker<2,>=1.0.0 in /Users/huslen/Library/jupyterlab-desktop/jlab_server/lib/python3.8/site-packages (from streamlit) (1.8.2)\n",
      "Requirement already satisfied: cachetools<6,>=4.0 in /Users/huslen/Library/jupyterlab-desktop/jlab_server/lib/python3.8/site-packages (from streamlit) (5.5.0)\n",
      "Requirement already satisfied: click<9,>=7.0 in /Users/huslen/Library/jupyterlab-desktop/jlab_server/lib/python3.8/site-packages (from streamlit) (8.1.7)\n",
      "Requirement already satisfied: numpy<3,>=1.20 in /Users/huslen/Library/jupyterlab-desktop/jlab_server/lib/python3.8/site-packages (from streamlit) (1.24.4)\n",
      "Requirement already satisfied: packaging<25,>=20 in /Users/huslen/Library/jupyterlab-desktop/jlab_server/lib/python3.8/site-packages (from streamlit) (23.1)\n",
      "Requirement already satisfied: pandas<3,>=1.4.0 in /Users/huslen/Library/jupyterlab-desktop/jlab_server/lib/python3.8/site-packages (from streamlit) (2.0.3)\n",
      "Requirement already satisfied: pillow<11,>=7.1.0 in /Users/huslen/Library/jupyterlab-desktop/jlab_server/lib/python3.8/site-packages (from streamlit) (10.0.0)\n",
      "Requirement already satisfied: protobuf<6,>=3.20 in /Users/huslen/Library/jupyterlab-desktop/jlab_server/lib/python3.8/site-packages (from streamlit) (5.28.2)\n",
      "Requirement already satisfied: pyarrow>=7.0 in /Users/huslen/Library/jupyterlab-desktop/jlab_server/lib/python3.8/site-packages (from streamlit) (17.0.0)\n",
      "Requirement already satisfied: requests<3,>=2.27 in /Users/huslen/Library/jupyterlab-desktop/jlab_server/lib/python3.8/site-packages (from streamlit) (2.31.0)\n",
      "Requirement already satisfied: rich<14,>=10.14.0 in /Users/huslen/Library/jupyterlab-desktop/jlab_server/lib/python3.8/site-packages (from streamlit) (13.9.2)\n",
      "Requirement already satisfied: tenacity<10,>=8.1.0 in /Users/huslen/Library/jupyterlab-desktop/jlab_server/lib/python3.8/site-packages (from streamlit) (8.2.3)\n",
      "Requirement already satisfied: toml<2,>=0.10.1 in /Users/huslen/Library/jupyterlab-desktop/jlab_server/lib/python3.8/site-packages (from streamlit) (0.10.2)\n",
      "Requirement already satisfied: typing-extensions<5,>=4.3.0 in /Users/huslen/Library/jupyterlab-desktop/jlab_server/lib/python3.8/site-packages (from streamlit) (4.12.2)\n",
      "Requirement already satisfied: gitpython!=3.1.19,<4,>=3.0.7 in /Users/huslen/Library/jupyterlab-desktop/jlab_server/lib/python3.8/site-packages (from streamlit) (3.1.43)\n",
      "Requirement already satisfied: pydeck<1,>=0.8.0b4 in /Users/huslen/Library/jupyterlab-desktop/jlab_server/lib/python3.8/site-packages (from streamlit) (0.9.1)\n",
      "Requirement already satisfied: tornado<7,>=6.0.3 in /Users/huslen/Library/jupyterlab-desktop/jlab_server/lib/python3.8/site-packages (from streamlit) (6.3.3)\n",
      "Requirement already satisfied: jinja2 in /Users/huslen/Library/jupyterlab-desktop/jlab_server/lib/python3.8/site-packages (from altair<6,>=4.0->streamlit) (3.1.2)\n",
      "Requirement already satisfied: jsonschema>=3.0 in /Users/huslen/Library/jupyterlab-desktop/jlab_server/lib/python3.8/site-packages (from altair<6,>=4.0->streamlit) (4.19.0)\n",
      "Requirement already satisfied: narwhals>=1.5.2 in /Users/huslen/Library/jupyterlab-desktop/jlab_server/lib/python3.8/site-packages (from altair<6,>=4.0->streamlit) (1.9.3)\n",
      "Requirement already satisfied: gitdb<5,>=4.0.1 in /Users/huslen/Library/jupyterlab-desktop/jlab_server/lib/python3.8/site-packages (from gitpython!=3.1.19,<4,>=3.0.7->streamlit) (4.0.11)\n",
      "Requirement already satisfied: python-dateutil>=2.8.2 in /Users/huslen/Library/jupyterlab-desktop/jlab_server/lib/python3.8/site-packages (from pandas<3,>=1.4.0->streamlit) (2.8.2)\n",
      "Requirement already satisfied: pytz>=2020.1 in /Users/huslen/Library/jupyterlab-desktop/jlab_server/lib/python3.8/site-packages (from pandas<3,>=1.4.0->streamlit) (2023.3)\n",
      "Requirement already satisfied: tzdata>=2022.1 in /Users/huslen/Library/jupyterlab-desktop/jlab_server/lib/python3.8/site-packages (from pandas<3,>=1.4.0->streamlit) (2023.3)\n",
      "Requirement already satisfied: charset-normalizer<4,>=2 in /Users/huslen/Library/jupyterlab-desktop/jlab_server/lib/python3.8/site-packages (from requests<3,>=2.27->streamlit) (3.2.0)\n",
      "Requirement already satisfied: idna<4,>=2.5 in /Users/huslen/Library/jupyterlab-desktop/jlab_server/lib/python3.8/site-packages (from requests<3,>=2.27->streamlit) (3.4)\n",
      "Requirement already satisfied: urllib3<3,>=1.21.1 in /Users/huslen/Library/jupyterlab-desktop/jlab_server/lib/python3.8/site-packages (from requests<3,>=2.27->streamlit) (2.0.4)\n",
      "Requirement already satisfied: certifi>=2017.4.17 in /Users/huslen/Library/jupyterlab-desktop/jlab_server/lib/python3.8/site-packages (from requests<3,>=2.27->streamlit) (2023.7.22)\n",
      "Requirement already satisfied: markdown-it-py>=2.2.0 in /Users/huslen/Library/jupyterlab-desktop/jlab_server/lib/python3.8/site-packages (from rich<14,>=10.14.0->streamlit) (3.0.0)\n",
      "Requirement already satisfied: pygments<3.0.0,>=2.13.0 in /Users/huslen/Library/jupyterlab-desktop/jlab_server/lib/python3.8/site-packages (from rich<14,>=10.14.0->streamlit) (2.16.1)\n",
      "Requirement already satisfied: smmap<6,>=3.0.1 in /Users/huslen/Library/jupyterlab-desktop/jlab_server/lib/python3.8/site-packages (from gitdb<5,>=4.0.1->gitpython!=3.1.19,<4,>=3.0.7->streamlit) (5.0.1)\n",
      "Requirement already satisfied: MarkupSafe>=2.0 in /Users/huslen/Library/jupyterlab-desktop/jlab_server/lib/python3.8/site-packages (from jinja2->altair<6,>=4.0->streamlit) (2.1.3)\n",
      "Requirement already satisfied: attrs>=22.2.0 in /Users/huslen/Library/jupyterlab-desktop/jlab_server/lib/python3.8/site-packages (from jsonschema>=3.0->altair<6,>=4.0->streamlit) (23.1.0)\n",
      "Requirement already satisfied: importlib-resources>=1.4.0 in /Users/huslen/Library/jupyterlab-desktop/jlab_server/lib/python3.8/site-packages (from jsonschema>=3.0->altair<6,>=4.0->streamlit) (6.0.1)\n",
      "Requirement already satisfied: jsonschema-specifications>=2023.03.6 in /Users/huslen/Library/jupyterlab-desktop/jlab_server/lib/python3.8/site-packages (from jsonschema>=3.0->altair<6,>=4.0->streamlit) (2023.7.1)\n",
      "Requirement already satisfied: pkgutil-resolve-name>=1.3.10 in /Users/huslen/Library/jupyterlab-desktop/jlab_server/lib/python3.8/site-packages (from jsonschema>=3.0->altair<6,>=4.0->streamlit) (1.3.10)\n",
      "Requirement already satisfied: referencing>=0.28.4 in /Users/huslen/Library/jupyterlab-desktop/jlab_server/lib/python3.8/site-packages (from jsonschema>=3.0->altair<6,>=4.0->streamlit) (0.30.2)\n",
      "Requirement already satisfied: rpds-py>=0.7.1 in /Users/huslen/Library/jupyterlab-desktop/jlab_server/lib/python3.8/site-packages (from jsonschema>=3.0->altair<6,>=4.0->streamlit) (0.9.2)\n",
      "Requirement already satisfied: mdurl~=0.1 in /Users/huslen/Library/jupyterlab-desktop/jlab_server/lib/python3.8/site-packages (from markdown-it-py>=2.2.0->rich<14,>=10.14.0->streamlit) (0.1.2)\n",
      "Requirement already satisfied: six>=1.5 in /Users/huslen/Library/jupyterlab-desktop/jlab_server/lib/python3.8/site-packages (from python-dateutil>=2.8.2->pandas<3,>=1.4.0->streamlit) (1.16.0)\n",
      "Requirement already satisfied: zipp>=3.1.0 in /Users/huslen/Library/jupyterlab-desktop/jlab_server/lib/python3.8/site-packages (from importlib-resources>=1.4.0->jsonschema>=3.0->altair<6,>=4.0->streamlit) (3.16.2)\n"
     ]
    }
   ],
   "source": [
    "!pip install streamlit"
   ]
  },
  {
   "cell_type": "code",
   "execution_count": 2,
   "id": "a4d02476-abff-4b08-8c5d-ff9f9c4dbbfc",
   "metadata": {},
   "outputs": [
    {
     "name": "stdout",
     "output_type": "stream",
     "text": [
      "Requirement already satisfied: joblib in /Users/huslen/Library/jupyterlab-desktop/jlab_server/lib/python3.8/site-packages (1.3.2)\n"
     ]
    }
   ],
   "source": [
    "!pip install joblib"
   ]
  },
  {
   "cell_type": "code",
   "execution_count": 3,
   "id": "c0437ada-b50b-4dc8-ac0e-f02e3ee1f606",
   "metadata": {
    "collapsed": true,
    "jupyter": {
     "outputs_hidden": true
    }
   },
   "outputs": [
    {
     "name": "stdout",
     "output_type": "stream",
     "text": [
      "Requirement already satisfied: scikit-learn in /Users/huslen/Library/jupyterlab-desktop/jlab_server/lib/python3.8/site-packages (1.3.2)\n",
      "Requirement already satisfied: numpy<2.0,>=1.17.3 in /Users/huslen/Library/jupyterlab-desktop/jlab_server/lib/python3.8/site-packages (from scikit-learn) (1.24.4)\n",
      "Requirement already satisfied: scipy>=1.5.0 in /Users/huslen/Library/jupyterlab-desktop/jlab_server/lib/python3.8/site-packages (from scikit-learn) (1.10.1)\n",
      "Requirement already satisfied: joblib>=1.1.1 in /Users/huslen/Library/jupyterlab-desktop/jlab_server/lib/python3.8/site-packages (from scikit-learn) (1.3.2)\n",
      "Requirement already satisfied: threadpoolctl>=2.0.0 in /Users/huslen/Library/jupyterlab-desktop/jlab_server/lib/python3.8/site-packages (from scikit-learn) (3.2.0)\n"
     ]
    }
   ],
   "source": [
    "!pip install scikit-learn"
   ]
  },
  {
   "cell_type": "markdown",
   "id": "aeb2d24a-d3dd-4a3f-bb2c-efea0870fc19",
   "metadata": {
    "jp-MarkdownHeadingCollapsed": true,
    "tags": []
   },
   "source": [
    "### Exercise #1: Create a web app to predict `Iris` flower\n",
    "#### Streamlit documentation: https://docs.streamlit.io/library/api-reference\n",
    "* Create input fields where a user can enter flower attributes.\n",
    "  * Inputs are in *centimeters*: `sepal length`, `sepal width`, `petal length`, and `petal width`, \n",
    "  * Inputs can not be greater than 15 or negative number.\n",
    "* Create a button to get the inputs and predict\n",
    "* Use the inputs to predict a flower type.\n",
    "  The model was exported with the `joblib` library, and you can use the following code to load the model:\n",
    "\n",
    "  ``` python\n",
    "  # import the load method from joblib\n",
    "  from joblib import load\n",
    "\n",
    "  model = load('data/iris_model.joblib')\n",
    "\n",
    "  # Inference code. \n",
    "  # The input array is in double brackets because it is 1 dimensional\n",
    "  prediction = model.predict([[1,2,3,4]])\n",
    "  ```\n",
    "\n",
    "  The prediction will be an array with an integer value, which is the predicted class. They are as follows:\n",
    "  - 0: Iris Setosa\n",
    "  - 1: Iris Versicolour\n",
    "  - 2: Iris Virginica\n",
    "  \n",
    "  For your own reference here are the four input variables and their common ranges. These are listed by position of their input. \n",
    "  - 0: sepal length in cm\n",
    "  - 1: sepal width in cm\n",
    "  - 2: petal length in cm\n",
    "  - 3: petal width in cm\n",
    "\n",
    "* Output a predicted flower type as an image. Use the images from `images` folder.\n",
    "\n",
    "![setosa](images/iris_setosa.png)\n",
    "![setosa](images/iris_versicolor.png)\n",
    "![setosa](images/iris_virginica.png)\n",
    "\n",
    "\n"
   ]
  },
  {
   "cell_type": "markdown",
   "id": "76bf1c3e-a103-411a-8ecd-f85426dba5b4",
   "metadata": {},
   "source": [
    "### Exercise #2\n",
    "* Make 2 columns using `st.columns`\n",
    "  * Put sepal inputs in the first column\n",
    "  * Put petal inputs in the second column\n",
    "* Display *predict* button and *output image* in the center using `st.columns`"
   ]
  },
  {
   "cell_type": "markdown",
   "id": "7a394500-10c7-432e-b238-9f2b08b1c44f",
   "metadata": {},
   "source": [
    "### Exercise #3\n",
    "* Deploy your application to the Streamlit Community Cloud.\n",
    "\n",
    "**Steps to deploy**:\n",
    "1. Sign in using your **Github account**. **https://docs.streamlit.io/streamlit-community-cloud/get-started/quickstart**\n",
    "2. Create a repository in your github account\n",
    "3. Upload your local app files to your github repository\n",
    "   * You additionally need to have **requirements.txt** file\n",
    "        * The packages to be installed are: `joblib`, `scikit-learn`\n",
    "5. Connect your github repository to the Streamlit Community Cloud to publish your app. **https://docs.streamlit.io/streamlit-community-cloud/deploy-your-app**"
   ]
  },
  {
   "cell_type": "code",
   "execution_count": 2,
   "id": "d2fb30ae-fbbe-45fc-bc8a-3a4db2a1417d",
   "metadata": {},
   "outputs": [],
   "source": [
    "import streamlit as st"
   ]
  },
  {
   "cell_type": "code",
   "execution_count": 3,
   "id": "29d9a823-62d8-4117-afa5-52e6e0ec9575",
   "metadata": {
    "collapsed": true,
    "jupyter": {
     "outputs_hidden": true
    },
    "scrolled": true
   },
   "outputs": [
    {
     "name": "stderr",
     "output_type": "stream",
     "text": [
      "2024-10-16 12:22:20.428 WARNING streamlit.runtime.scriptrunner_utils.script_run_context: Thread 'MainThread': missing ScriptRunContext! This warning can be ignored when running in bare mode.\n",
      "2024-10-16 12:22:20.429 WARNING streamlit.runtime.scriptrunner_utils.script_run_context: Thread 'MainThread': missing ScriptRunContext! This warning can be ignored when running in bare mode.\n",
      "2024-10-16 12:22:20.430 WARNING streamlit.runtime.scriptrunner_utils.script_run_context: Thread 'MainThread': missing ScriptRunContext! This warning can be ignored when running in bare mode.\n",
      "2024-10-16 12:22:20.431 WARNING streamlit.runtime.scriptrunner_utils.script_run_context: Thread 'MainThread': missing ScriptRunContext! This warning can be ignored when running in bare mode.\n",
      "2024-10-16 12:22:20.431 WARNING streamlit.runtime.state.session_state_proxy: Session state does not function when running a script without `streamlit run`\n",
      "2024-10-16 12:22:20.432 WARNING streamlit.runtime.scriptrunner_utils.script_run_context: Thread 'MainThread': missing ScriptRunContext! This warning can be ignored when running in bare mode.\n",
      "2024-10-16 12:22:20.482 \n",
      "  \u001b[33m\u001b[1mWarning:\u001b[0m to view this Streamlit app on a browser, run it with the following\n",
      "  command:\n",
      "\n",
      "    streamlit run /Users/huslen/Library/jupyterlab-desktop/jlab_server/lib/python3.8/site-packages/ipykernel_launcher.py [ARGUMENTS]\n",
      "2024-10-16 12:22:20.482 Thread 'MainThread': missing ScriptRunContext! This warning can be ignored when running in bare mode.\n",
      "2024-10-16 12:22:20.483 Thread 'MainThread': missing ScriptRunContext! This warning can be ignored when running in bare mode.\n",
      "2024-10-16 12:22:20.483 Thread 'MainThread': missing ScriptRunContext! This warning can be ignored when running in bare mode.\n",
      "2024-10-16 12:22:20.483 Thread 'MainThread': missing ScriptRunContext! This warning can be ignored when running in bare mode.\n",
      "2024-10-16 12:22:20.483 Thread 'MainThread': missing ScriptRunContext! This warning can be ignored when running in bare mode.\n",
      "2024-10-16 12:22:20.484 Thread 'MainThread': missing ScriptRunContext! This warning can be ignored when running in bare mode.\n",
      "2024-10-16 12:22:20.484 Thread 'MainThread': missing ScriptRunContext! This warning can be ignored when running in bare mode.\n",
      "2024-10-16 12:22:20.484 Thread 'MainThread': missing ScriptRunContext! This warning can be ignored when running in bare mode.\n",
      "2024-10-16 12:22:20.484 Thread 'MainThread': missing ScriptRunContext! This warning can be ignored when running in bare mode.\n",
      "2024-10-16 12:22:20.484 Thread 'MainThread': missing ScriptRunContext! This warning can be ignored when running in bare mode.\n",
      "2024-10-16 12:22:20.485 Thread 'MainThread': missing ScriptRunContext! This warning can be ignored when running in bare mode.\n",
      "2024-10-16 12:22:20.485 Thread 'MainThread': missing ScriptRunContext! This warning can be ignored when running in bare mode.\n",
      "2024-10-16 12:22:20.485 Thread 'MainThread': missing ScriptRunContext! This warning can be ignored when running in bare mode.\n",
      "2024-10-16 12:22:20.486 Thread 'MainThread': missing ScriptRunContext! This warning can be ignored when running in bare mode.\n",
      "2024-10-16 12:22:20.486 Thread 'MainThread': missing ScriptRunContext! This warning can be ignored when running in bare mode.\n",
      "2024-10-16 12:22:20.486 Thread 'MainThread': missing ScriptRunContext! This warning can be ignored when running in bare mode.\n",
      "2024-10-16 12:22:20.486 Thread 'MainThread': missing ScriptRunContext! This warning can be ignored when running in bare mode.\n",
      "2024-10-16 12:22:20.486 Thread 'MainThread': missing ScriptRunContext! This warning can be ignored when running in bare mode.\n",
      "2024-10-16 12:22:20.487 Thread 'MainThread': missing ScriptRunContext! This warning can be ignored when running in bare mode.\n"
     ]
    }
   ],
   "source": [
    "sepal_length = st.number_input('Sepal length(cm)', min_value = 0, max_value = 15)\n",
    "sepal_width = st.number_input('Sepal width(cm)', min_value = 0, max_value = 15)\n",
    "petal_length = st.number_input('Petal length(cm)', min_value = 0, max_value = 15)\n",
    "petal_width = st.number_input('Petal width(cm)', min_value = 0, max_value = 15)"
   ]
  },
  {
   "cell_type": "code",
   "execution_count": 7,
   "id": "13ba43cb-e7e7-4835-ae87-8bf965d5eb6a",
   "metadata": {
    "collapsed": true,
    "jupyter": {
     "outputs_hidden": true
    },
    "scrolled": true
   },
   "outputs": [
    {
     "name": "stderr",
     "output_type": "stream",
     "text": [
      "2024-10-16 12:24:10.915 Thread 'MainThread': missing ScriptRunContext! This warning can be ignored when running in bare mode.\n",
      "2024-10-16 12:24:10.916 Thread 'MainThread': missing ScriptRunContext! This warning can be ignored when running in bare mode.\n",
      "2024-10-16 12:24:10.917 Thread 'MainThread': missing ScriptRunContext! This warning can be ignored when running in bare mode.\n",
      "2024-10-16 12:24:10.917 Thread 'MainThread': missing ScriptRunContext! This warning can be ignored when running in bare mode.\n",
      "2024-10-16 12:24:10.918 Thread 'MainThread': missing ScriptRunContext! This warning can be ignored when running in bare mode.\n",
      "2024-10-16 12:24:10.918 Thread 'MainThread': missing ScriptRunContext! This warning can be ignored when running in bare mode.\n",
      "2024-10-16 12:24:10.919 Thread 'MainThread': missing ScriptRunContext! This warning can be ignored when running in bare mode.\n",
      "2024-10-16 12:24:10.920 Thread 'MainThread': missing ScriptRunContext! This warning can be ignored when running in bare mode.\n"
     ]
    },
    {
     "ename": "TypeError",
     "evalue": "bad argument type for built-in operation",
     "output_type": "error",
     "traceback": [
      "\u001b[0;31m---------------------------------------------------------------------------\u001b[0m",
      "\u001b[0;31mTypeError\u001b[0m                                 Traceback (most recent call last)",
      "Cell \u001b[0;32mIn[7], line 2\u001b[0m\n\u001b[1;32m      1\u001b[0m st\u001b[38;5;241m.\u001b[39mbutton(\u001b[38;5;124m'\u001b[39m\u001b[38;5;124mPredict\u001b[39m\u001b[38;5;124m'\u001b[39m)\n\u001b[0;32m----> 2\u001b[0m \u001b[38;5;28;01mif\u001b[39;00m \u001b[43mst\u001b[49m\u001b[38;5;241;43m.\u001b[39;49m\u001b[43mbutton\u001b[49m\u001b[43m(\u001b[49m\u001b[43msepal_length\u001b[49m\u001b[43m \u001b[49m\u001b[38;5;241;43m<\u001b[39;49m\u001b[43m \u001b[49m\u001b[38;5;241;43m0\u001b[39;49m\u001b[43m,\u001b[49m\u001b[43m \u001b[49m\u001b[43msepal_width\u001b[49m\u001b[43m \u001b[49m\u001b[38;5;241;43m<\u001b[39;49m\u001b[43m \u001b[49m\u001b[38;5;241;43m0\u001b[39;49m\u001b[43m,\u001b[49m\u001b[43m \u001b[49m\u001b[43mpetal_length\u001b[49m\u001b[43m \u001b[49m\u001b[38;5;241;43m<\u001b[39;49m\u001b[43m \u001b[49m\u001b[38;5;241;43m0\u001b[39;49m\u001b[43m,\u001b[49m\u001b[43m \u001b[49m\u001b[43mpetal_width\u001b[49m\u001b[43m \u001b[49m\u001b[38;5;241;43m<\u001b[39;49m\u001b[43m \u001b[49m\u001b[38;5;241;43m0\u001b[39;49m\u001b[43m)\u001b[49m:\n\u001b[1;32m      3\u001b[0m     st\u001b[38;5;241m.\u001b[39mwrite(\u001b[38;5;124m'\u001b[39m\u001b[38;5;124mError\u001b[39m\u001b[38;5;124m'\u001b[39m)\n\u001b[1;32m      4\u001b[0m \u001b[38;5;28;01melse\u001b[39;00m:\n",
      "File \u001b[0;32m~/Library/jupyterlab-desktop/jlab_server/lib/python3.8/site-packages/streamlit/runtime/metrics_util.py:410\u001b[0m, in \u001b[0;36mgather_metrics.<locals>.wrapped_func\u001b[0;34m(*args, **kwargs)\u001b[0m\n\u001b[1;32m    408\u001b[0m         _LOGGER\u001b[38;5;241m.\u001b[39mdebug(\u001b[38;5;124m\"\u001b[39m\u001b[38;5;124mFailed to collect command telemetry\u001b[39m\u001b[38;5;124m\"\u001b[39m, exc_info\u001b[38;5;241m=\u001b[39mex)\n\u001b[1;32m    409\u001b[0m \u001b[38;5;28;01mtry\u001b[39;00m:\n\u001b[0;32m--> 410\u001b[0m     result \u001b[38;5;241m=\u001b[39m \u001b[43mnon_optional_func\u001b[49m\u001b[43m(\u001b[49m\u001b[38;5;241;43m*\u001b[39;49m\u001b[43margs\u001b[49m\u001b[43m,\u001b[49m\u001b[43m \u001b[49m\u001b[38;5;241;43m*\u001b[39;49m\u001b[38;5;241;43m*\u001b[39;49m\u001b[43mkwargs\u001b[49m\u001b[43m)\u001b[49m\n\u001b[1;32m    411\u001b[0m \u001b[38;5;28;01mexcept\u001b[39;00m RerunException \u001b[38;5;28;01mas\u001b[39;00m ex:\n\u001b[1;32m    412\u001b[0m     \u001b[38;5;66;03m# Duplicated from below, because static analysis tools get confused\u001b[39;00m\n\u001b[1;32m    413\u001b[0m     \u001b[38;5;66;03m# by deferring the rethrow.\u001b[39;00m\n\u001b[1;32m    414\u001b[0m     \u001b[38;5;28;01mif\u001b[39;00m tracking_activated \u001b[38;5;129;01mand\u001b[39;00m command_telemetry:\n",
      "File \u001b[0;32m~/Library/jupyterlab-desktop/jlab_server/lib/python3.8/site-packages/streamlit/elements/widgets/button.py:222\u001b[0m, in \u001b[0;36mButtonMixin.button\u001b[0;34m(self, label, key, help, on_click, args, kwargs, type, icon, disabled, use_container_width)\u001b[0m\n\u001b[1;32m    216\u001b[0m \u001b[38;5;28;01mif\u001b[39;00m \u001b[38;5;28mtype\u001b[39m \u001b[38;5;129;01mnot\u001b[39;00m \u001b[38;5;129;01min\u001b[39;00m [\u001b[38;5;124m\"\u001b[39m\u001b[38;5;124mprimary\u001b[39m\u001b[38;5;124m\"\u001b[39m, \u001b[38;5;124m\"\u001b[39m\u001b[38;5;124msecondary\u001b[39m\u001b[38;5;124m\"\u001b[39m]:\n\u001b[1;32m    217\u001b[0m     \u001b[38;5;28;01mraise\u001b[39;00m StreamlitAPIException(\n\u001b[1;32m    218\u001b[0m         \u001b[38;5;124m'\u001b[39m\u001b[38;5;124mThe type argument to st.button must be \u001b[39m\u001b[38;5;124m\"\u001b[39m\u001b[38;5;124mprimary\u001b[39m\u001b[38;5;124m\"\u001b[39m\u001b[38;5;124m or \u001b[39m\u001b[38;5;124m\"\u001b[39m\u001b[38;5;124msecondary\u001b[39m\u001b[38;5;124m\"\u001b[39m\u001b[38;5;124m. \u001b[39m\u001b[38;5;130;01m\\n\u001b[39;00m\u001b[38;5;124m'\u001b[39m\n\u001b[1;32m    219\u001b[0m         \u001b[38;5;124mf\u001b[39m\u001b[38;5;124m'\u001b[39m\u001b[38;5;124mThe argument passed was \u001b[39m\u001b[38;5;124m\"\u001b[39m\u001b[38;5;132;01m{\u001b[39;00m\u001b[38;5;28mtype\u001b[39m\u001b[38;5;132;01m}\u001b[39;00m\u001b[38;5;124m\"\u001b[39m\u001b[38;5;124m.\u001b[39m\u001b[38;5;124m'\u001b[39m\n\u001b[1;32m    220\u001b[0m     )\n\u001b[0;32m--> 222\u001b[0m \u001b[38;5;28;01mreturn\u001b[39;00m \u001b[38;5;28;43mself\u001b[39;49m\u001b[38;5;241;43m.\u001b[39;49m\u001b[43mdg\u001b[49m\u001b[38;5;241;43m.\u001b[39;49m\u001b[43m_button\u001b[49m\u001b[43m(\u001b[49m\n\u001b[1;32m    223\u001b[0m \u001b[43m    \u001b[49m\u001b[43mlabel\u001b[49m\u001b[43m,\u001b[49m\n\u001b[1;32m    224\u001b[0m \u001b[43m    \u001b[49m\u001b[43mkey\u001b[49m\u001b[43m,\u001b[49m\n\u001b[1;32m    225\u001b[0m \u001b[43m    \u001b[49m\u001b[43mhelp\u001b[49m\u001b[43m,\u001b[49m\n\u001b[1;32m    226\u001b[0m \u001b[43m    \u001b[49m\u001b[43mis_form_submitter\u001b[49m\u001b[38;5;241;43m=\u001b[39;49m\u001b[38;5;28;43;01mFalse\u001b[39;49;00m\u001b[43m,\u001b[49m\n\u001b[1;32m    227\u001b[0m \u001b[43m    \u001b[49m\u001b[43mon_click\u001b[49m\u001b[38;5;241;43m=\u001b[39;49m\u001b[43mon_click\u001b[49m\u001b[43m,\u001b[49m\n\u001b[1;32m    228\u001b[0m \u001b[43m    \u001b[49m\u001b[43margs\u001b[49m\u001b[38;5;241;43m=\u001b[39;49m\u001b[43margs\u001b[49m\u001b[43m,\u001b[49m\n\u001b[1;32m    229\u001b[0m \u001b[43m    \u001b[49m\u001b[43mkwargs\u001b[49m\u001b[38;5;241;43m=\u001b[39;49m\u001b[43mkwargs\u001b[49m\u001b[43m,\u001b[49m\n\u001b[1;32m    230\u001b[0m \u001b[43m    \u001b[49m\u001b[43mdisabled\u001b[49m\u001b[38;5;241;43m=\u001b[39;49m\u001b[43mdisabled\u001b[49m\u001b[43m,\u001b[49m\n\u001b[1;32m    231\u001b[0m \u001b[43m    \u001b[49m\u001b[38;5;28;43mtype\u001b[39;49m\u001b[38;5;241;43m=\u001b[39;49m\u001b[38;5;28;43mtype\u001b[39;49m\u001b[43m,\u001b[49m\n\u001b[1;32m    232\u001b[0m \u001b[43m    \u001b[49m\u001b[43micon\u001b[49m\u001b[38;5;241;43m=\u001b[39;49m\u001b[43micon\u001b[49m\u001b[43m,\u001b[49m\n\u001b[1;32m    233\u001b[0m \u001b[43m    \u001b[49m\u001b[43muse_container_width\u001b[49m\u001b[38;5;241;43m=\u001b[39;49m\u001b[43muse_container_width\u001b[49m\u001b[43m,\u001b[49m\n\u001b[1;32m    234\u001b[0m \u001b[43m    \u001b[49m\u001b[43mctx\u001b[49m\u001b[38;5;241;43m=\u001b[39;49m\u001b[43mctx\u001b[49m\u001b[43m,\u001b[49m\n\u001b[1;32m    235\u001b[0m \u001b[43m\u001b[49m\u001b[43m)\u001b[49m\n",
      "File \u001b[0;32m~/Library/jupyterlab-desktop/jlab_server/lib/python3.8/site-packages/streamlit/elements/widgets/button.py:902\u001b[0m, in \u001b[0;36mButtonMixin._button\u001b[0;34m(self, label, key, help, is_form_submitter, on_click, args, kwargs, type, icon, disabled, use_container_width, ctx)\u001b[0m\n\u001b[1;32m    900\u001b[0m button_proto \u001b[38;5;241m=\u001b[39m ButtonProto()\n\u001b[1;32m    901\u001b[0m button_proto\u001b[38;5;241m.\u001b[39mid \u001b[38;5;241m=\u001b[39m element_id\n\u001b[0;32m--> 902\u001b[0m \u001b[43mbutton_proto\u001b[49m\u001b[38;5;241;43m.\u001b[39;49m\u001b[43mlabel\u001b[49m \u001b[38;5;241m=\u001b[39m label\n\u001b[1;32m    903\u001b[0m button_proto\u001b[38;5;241m.\u001b[39mdefault \u001b[38;5;241m=\u001b[39m \u001b[38;5;28;01mFalse\u001b[39;00m\n\u001b[1;32m    904\u001b[0m button_proto\u001b[38;5;241m.\u001b[39mis_form_submitter \u001b[38;5;241m=\u001b[39m is_form_submitter\n",
      "\u001b[0;31mTypeError\u001b[0m: bad argument type for built-in operation"
     ]
    }
   ],
   "source": [
    "st.button('Predict')\n",
    "if st.button(sepal_length < 0, sepal_width < 0, petal_length < 0, petal_width < 0):\n",
    "    st.write('Error')\n",
    "else:\n",
    "    input_data = [[sepal_length, sepal_width, petal_length, petal_width]]\n",
    "    prediction = model.predict(input_data)"
   ]
  },
  {
   "cell_type": "code",
   "execution_count": null,
   "id": "b117afee-5a3d-4afc-89c7-9b87bc1c2e9b",
   "metadata": {},
   "outputs": [],
   "source": []
  }
 ],
 "metadata": {
  "kernelspec": {
   "display_name": "Python 3 (ipykernel)",
   "language": "python",
   "name": "python3"
  },
  "language_info": {
   "codemirror_mode": {
    "name": "ipython",
    "version": 3
   },
   "file_extension": ".py",
   "mimetype": "text/x-python",
   "name": "python",
   "nbconvert_exporter": "python",
   "pygments_lexer": "ipython3",
   "version": "3.12.5"
  }
 },
 "nbformat": 4,
 "nbformat_minor": 5
}
