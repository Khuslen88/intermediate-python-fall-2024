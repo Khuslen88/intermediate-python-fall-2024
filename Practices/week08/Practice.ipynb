{
 "cells": [
  {
   "cell_type": "code",
   "execution_count": 1,
   "id": "768bcf14-98c5-4967-b1ba-253ab13f8eef",
   "metadata": {},
   "outputs": [
    {
     "name": "stdout",
     "output_type": "stream",
     "text": [
      "Usage: streamlit run [OPTIONS] TARGET [ARGS]...\n",
      "Try 'streamlit run --help' for help.\n",
      "\n",
      "Error: Invalid value: File does not exist: untitled.py\n"
     ]
    }
   ],
   "source": [
    "!streamlit run untitled.py"
   ]
  },
  {
   "cell_type": "markdown",
   "id": "11be586a-ae53-4eea-97c0-a0c1030ab6a3",
   "metadata": {},
   "source": [
    "### Stock price Dashboard with Streamlit\n",
    "<!-- #   https://finance.yahoo.com/quote/MSFT?p=MSFT -->\n",
    "* Install  `yfinance` using pip\n",
    "  * Try their example with `MSFT` ticker\n",
    "* Create a streamlit app\n",
    "  * Create a sidebar. It has following components.\n",
    "    * Input to get `ticker`\n",
    "    * Inputs to get `start_date` and `end_date`\n",
    "    * Button to get the results\n",
    "  * Get the historical prices of a given ticker using `history` method on a ticker.\n",
    "    * Output the current price of a stock using `metric` from streamlit.\n",
    "      * Calculate percentage change and it use in `metric`. Use: `previousClose` and `currentPrice`.\n",
    "      Formula to calculate: \n",
    "      ![ss](formula.jpg \"Formula\")\n",
    "      * Make metrics for: currentRatio, quickRatio, shortRatio, pegRatio, payoutRatio.\n",
    "      * Make a row with 6 columns. Put price, currentRatio, quickRatio, shortRatio, pegRatio, payoutRatio in them.\n",
    "    * Make an accordion using `expander` from streamlit. This should return `news` related to the ticker. Every link should be with its title.\n",
    "      \n",
    "    * Output the prices under the title of **`INPUT_TICKER` historical prices**\n",
    "    * Make a line chart using `line_chart` from streamlit. Plot the following columns: 'Open', 'Close', 'High', 'Low'\n",
    "    * Output a line chart and earnings under the title of **Earnings**. Use: `earnings` from a ticker.\n",
    "    * Output **Finances** and **Balance sheet** with appropriate titles."
   ]
  },
  {
   "cell_type": "code",
   "execution_count": 5,
   "id": "50cbb1e1-d0c7-4e24-8c9c-02eca1c32cca",
   "metadata": {
    "collapsed": true,
    "jupyter": {
     "outputs_hidden": true
    },
    "scrolled": true
   },
   "outputs": [
    {
     "name": "stdout",
     "output_type": "stream",
     "text": [
      "Requirement already satisfied: yfinance in /Users/huslen/Library/jupyterlab-desktop/jlab_server/lib/python3.12/site-packages (0.2.45)\n",
      "Requirement already satisfied: pandas>=1.3.0 in /Users/huslen/Library/jupyterlab-desktop/jlab_server/lib/python3.12/site-packages (from yfinance) (2.2.2)\n",
      "Requirement already satisfied: numpy>=1.16.5 in /Users/huslen/Library/jupyterlab-desktop/jlab_server/lib/python3.12/site-packages (from yfinance) (2.1.0)\n",
      "Requirement already satisfied: requests>=2.31 in /Users/huslen/Library/jupyterlab-desktop/jlab_server/lib/python3.12/site-packages (from yfinance) (2.32.3)\n",
      "Requirement already satisfied: multitasking>=0.0.7 in /Users/huslen/Library/jupyterlab-desktop/jlab_server/lib/python3.12/site-packages (from yfinance) (0.0.11)\n",
      "Requirement already satisfied: lxml>=4.9.1 in /Users/huslen/Library/jupyterlab-desktop/jlab_server/lib/python3.12/site-packages (from yfinance) (5.3.0)\n",
      "Requirement already satisfied: platformdirs>=2.0.0 in /Users/huslen/Library/jupyterlab-desktop/jlab_server/lib/python3.12/site-packages (from yfinance) (4.2.2)\n",
      "Requirement already satisfied: pytz>=2022.5 in /Users/huslen/Library/jupyterlab-desktop/jlab_server/lib/python3.12/site-packages (from yfinance) (2024.1)\n",
      "Requirement already satisfied: frozendict>=2.3.4 in /Users/huslen/Library/jupyterlab-desktop/jlab_server/lib/python3.12/site-packages (from yfinance) (2.4.4)\n",
      "Requirement already satisfied: peewee>=3.16.2 in /Users/huslen/Library/jupyterlab-desktop/jlab_server/lib/python3.12/site-packages (from yfinance) (3.17.7)\n",
      "Requirement already satisfied: beautifulsoup4>=4.11.1 in /Users/huslen/Library/jupyterlab-desktop/jlab_server/lib/python3.12/site-packages (from yfinance) (4.12.3)\n",
      "Requirement already satisfied: html5lib>=1.1 in /Users/huslen/Library/jupyterlab-desktop/jlab_server/lib/python3.12/site-packages (from yfinance) (1.1)\n",
      "Requirement already satisfied: soupsieve>1.2 in /Users/huslen/Library/jupyterlab-desktop/jlab_server/lib/python3.12/site-packages (from beautifulsoup4>=4.11.1->yfinance) (2.5)\n",
      "Requirement already satisfied: six>=1.9 in /Users/huslen/Library/jupyterlab-desktop/jlab_server/lib/python3.12/site-packages (from html5lib>=1.1->yfinance) (1.16.0)\n",
      "Requirement already satisfied: webencodings in /Users/huslen/Library/jupyterlab-desktop/jlab_server/lib/python3.12/site-packages (from html5lib>=1.1->yfinance) (0.5.1)\n",
      "Requirement already satisfied: python-dateutil>=2.8.2 in /Users/huslen/Library/jupyterlab-desktop/jlab_server/lib/python3.12/site-packages (from pandas>=1.3.0->yfinance) (2.9.0)\n",
      "Requirement already satisfied: tzdata>=2022.7 in /Users/huslen/Library/jupyterlab-desktop/jlab_server/lib/python3.12/site-packages (from pandas>=1.3.0->yfinance) (2024.1)\n",
      "Requirement already satisfied: charset-normalizer<4,>=2 in /Users/huslen/Library/jupyterlab-desktop/jlab_server/lib/python3.12/site-packages (from requests>=2.31->yfinance) (3.3.2)\n",
      "Requirement already satisfied: idna<4,>=2.5 in /Users/huslen/Library/jupyterlab-desktop/jlab_server/lib/python3.12/site-packages (from requests>=2.31->yfinance) (3.8)\n",
      "Requirement already satisfied: urllib3<3,>=1.21.1 in /Users/huslen/Library/jupyterlab-desktop/jlab_server/lib/python3.12/site-packages (from requests>=2.31->yfinance) (2.2.2)\n",
      "Requirement already satisfied: certifi>=2017.4.17 in /Users/huslen/Library/jupyterlab-desktop/jlab_server/lib/python3.12/site-packages (from requests>=2.31->yfinance) (2024.7.4)\n"
     ]
    }
   ],
   "source": [
    "!pip install yfinance"
   ]
  },
  {
   "cell_type": "code",
   "execution_count": 7,
   "id": "8d76dadf-e53c-4ed5-b9ea-abbfab24443b",
   "metadata": {
    "collapsed": true,
    "jupyter": {
     "outputs_hidden": true
    },
    "scrolled": true
   },
   "outputs": [
    {
     "name": "stdout",
     "output_type": "stream",
     "text": [
      "Collecting streamlit\n",
      "  Downloading streamlit-1.39.0-py2.py3-none-any.whl.metadata (8.5 kB)\n",
      "Collecting altair<6,>=4.0 (from streamlit)\n",
      "  Downloading altair-5.4.1-py3-none-any.whl.metadata (9.4 kB)\n",
      "Collecting blinker<2,>=1.0.0 (from streamlit)\n",
      "  Downloading blinker-1.8.2-py3-none-any.whl.metadata (1.6 kB)\n",
      "Collecting cachetools<6,>=4.0 (from streamlit)\n",
      "  Downloading cachetools-5.5.0-py3-none-any.whl.metadata (5.3 kB)\n",
      "Collecting click<9,>=7.0 (from streamlit)\n",
      "  Downloading click-8.1.7-py3-none-any.whl.metadata (3.0 kB)\n",
      "Requirement already satisfied: numpy<3,>=1.20 in /Users/huslen/Library/jupyterlab-desktop/jlab_server/lib/python3.12/site-packages (from streamlit) (2.1.0)\n",
      "Requirement already satisfied: packaging<25,>=20 in /Users/huslen/Library/jupyterlab-desktop/jlab_server/lib/python3.12/site-packages (from streamlit) (24.1)\n",
      "Requirement already satisfied: pandas<3,>=1.4.0 in /Users/huslen/Library/jupyterlab-desktop/jlab_server/lib/python3.12/site-packages (from streamlit) (2.2.2)\n",
      "Requirement already satisfied: pillow<11,>=7.1.0 in /Users/huslen/Library/jupyterlab-desktop/jlab_server/lib/python3.12/site-packages (from streamlit) (10.4.0)\n",
      "Collecting protobuf<6,>=3.20 (from streamlit)\n",
      "  Downloading protobuf-5.28.2-cp38-abi3-macosx_10_9_universal2.whl.metadata (592 bytes)\n",
      "Collecting pyarrow>=7.0 (from streamlit)\n",
      "  Downloading pyarrow-17.0.0-cp312-cp312-macosx_10_15_x86_64.whl.metadata (3.3 kB)\n",
      "Requirement already satisfied: requests<3,>=2.27 in /Users/huslen/Library/jupyterlab-desktop/jlab_server/lib/python3.12/site-packages (from streamlit) (2.32.3)\n",
      "Collecting rich<14,>=10.14.0 (from streamlit)\n",
      "  Downloading rich-13.9.2-py3-none-any.whl.metadata (18 kB)\n",
      "Collecting tenacity<10,>=8.1.0 (from streamlit)\n",
      "  Downloading tenacity-9.0.0-py3-none-any.whl.metadata (1.2 kB)\n",
      "Collecting toml<2,>=0.10.1 (from streamlit)\n",
      "  Downloading toml-0.10.2-py2.py3-none-any.whl.metadata (7.1 kB)\n",
      "Requirement already satisfied: typing-extensions<5,>=4.3.0 in /Users/huslen/Library/jupyterlab-desktop/jlab_server/lib/python3.12/site-packages (from streamlit) (4.12.2)\n",
      "Collecting gitpython!=3.1.19,<4,>=3.0.7 (from streamlit)\n",
      "  Downloading GitPython-3.1.43-py3-none-any.whl.metadata (13 kB)\n",
      "Collecting pydeck<1,>=0.8.0b4 (from streamlit)\n",
      "  Downloading pydeck-0.9.1-py2.py3-none-any.whl.metadata (4.1 kB)\n",
      "Requirement already satisfied: tornado<7,>=6.0.3 in /Users/huslen/Library/jupyterlab-desktop/jlab_server/lib/python3.12/site-packages (from streamlit) (6.4.1)\n",
      "Requirement already satisfied: jinja2 in /Users/huslen/Library/jupyterlab-desktop/jlab_server/lib/python3.12/site-packages (from altair<6,>=4.0->streamlit) (3.1.4)\n",
      "Requirement already satisfied: jsonschema>=3.0 in /Users/huslen/Library/jupyterlab-desktop/jlab_server/lib/python3.12/site-packages (from altair<6,>=4.0->streamlit) (4.23.0)\n",
      "Collecting narwhals>=1.5.2 (from altair<6,>=4.0->streamlit)\n",
      "  Downloading narwhals-1.9.4-py3-none-any.whl.metadata (7.0 kB)\n",
      "Collecting gitdb<5,>=4.0.1 (from gitpython!=3.1.19,<4,>=3.0.7->streamlit)\n",
      "  Downloading gitdb-4.0.11-py3-none-any.whl.metadata (1.2 kB)\n",
      "Requirement already satisfied: python-dateutil>=2.8.2 in /Users/huslen/Library/jupyterlab-desktop/jlab_server/lib/python3.12/site-packages (from pandas<3,>=1.4.0->streamlit) (2.9.0)\n",
      "Requirement already satisfied: pytz>=2020.1 in /Users/huslen/Library/jupyterlab-desktop/jlab_server/lib/python3.12/site-packages (from pandas<3,>=1.4.0->streamlit) (2024.1)\n",
      "Requirement already satisfied: tzdata>=2022.7 in /Users/huslen/Library/jupyterlab-desktop/jlab_server/lib/python3.12/site-packages (from pandas<3,>=1.4.0->streamlit) (2024.1)\n",
      "Requirement already satisfied: charset-normalizer<4,>=2 in /Users/huslen/Library/jupyterlab-desktop/jlab_server/lib/python3.12/site-packages (from requests<3,>=2.27->streamlit) (3.3.2)\n",
      "Requirement already satisfied: idna<4,>=2.5 in /Users/huslen/Library/jupyterlab-desktop/jlab_server/lib/python3.12/site-packages (from requests<3,>=2.27->streamlit) (3.8)\n",
      "Requirement already satisfied: urllib3<3,>=1.21.1 in /Users/huslen/Library/jupyterlab-desktop/jlab_server/lib/python3.12/site-packages (from requests<3,>=2.27->streamlit) (2.2.2)\n",
      "Requirement already satisfied: certifi>=2017.4.17 in /Users/huslen/Library/jupyterlab-desktop/jlab_server/lib/python3.12/site-packages (from requests<3,>=2.27->streamlit) (2024.7.4)\n",
      "Collecting markdown-it-py>=2.2.0 (from rich<14,>=10.14.0->streamlit)\n",
      "  Downloading markdown_it_py-3.0.0-py3-none-any.whl.metadata (6.9 kB)\n",
      "Requirement already satisfied: pygments<3.0.0,>=2.13.0 in /Users/huslen/Library/jupyterlab-desktop/jlab_server/lib/python3.12/site-packages (from rich<14,>=10.14.0->streamlit) (2.18.0)\n",
      "Collecting smmap<6,>=3.0.1 (from gitdb<5,>=4.0.1->gitpython!=3.1.19,<4,>=3.0.7->streamlit)\n",
      "  Downloading smmap-5.0.1-py3-none-any.whl.metadata (4.3 kB)\n",
      "Requirement already satisfied: MarkupSafe>=2.0 in /Users/huslen/Library/jupyterlab-desktop/jlab_server/lib/python3.12/site-packages (from jinja2->altair<6,>=4.0->streamlit) (2.1.5)\n",
      "Requirement already satisfied: attrs>=22.2.0 in /Users/huslen/Library/jupyterlab-desktop/jlab_server/lib/python3.12/site-packages (from jsonschema>=3.0->altair<6,>=4.0->streamlit) (24.2.0)\n",
      "Requirement already satisfied: jsonschema-specifications>=2023.03.6 in /Users/huslen/Library/jupyterlab-desktop/jlab_server/lib/python3.12/site-packages (from jsonschema>=3.0->altair<6,>=4.0->streamlit) (2023.12.1)\n",
      "Requirement already satisfied: referencing>=0.28.4 in /Users/huslen/Library/jupyterlab-desktop/jlab_server/lib/python3.12/site-packages (from jsonschema>=3.0->altair<6,>=4.0->streamlit) (0.35.1)\n",
      "Requirement already satisfied: rpds-py>=0.7.1 in /Users/huslen/Library/jupyterlab-desktop/jlab_server/lib/python3.12/site-packages (from jsonschema>=3.0->altair<6,>=4.0->streamlit) (0.20.0)\n",
      "Collecting mdurl~=0.1 (from markdown-it-py>=2.2.0->rich<14,>=10.14.0->streamlit)\n",
      "  Downloading mdurl-0.1.2-py3-none-any.whl.metadata (1.6 kB)\n",
      "Requirement already satisfied: six>=1.5 in /Users/huslen/Library/jupyterlab-desktop/jlab_server/lib/python3.12/site-packages (from python-dateutil>=2.8.2->pandas<3,>=1.4.0->streamlit) (1.16.0)\n",
      "Downloading streamlit-1.39.0-py2.py3-none-any.whl (8.7 MB)\n",
      "\u001b[2K   \u001b[90m━━━━━━━━━━━━━━━━━━━━━━━━━━━━━━━━━━━━━━━━\u001b[0m \u001b[32m8.7/8.7 MB\u001b[0m \u001b[31m447.4 kB/s\u001b[0m eta \u001b[36m0:00:00\u001b[0ma \u001b[36m0:00:01\u001b[0m\n",
      "\u001b[?25hDownloading altair-5.4.1-py3-none-any.whl (658 kB)\n",
      "\u001b[2K   \u001b[90m━━━━━━━━━━━━━━━━━━━━━━━━━━━━━━━━━━━━━━━\u001b[0m \u001b[32m658.1/658.1 kB\u001b[0m \u001b[31m937.8 kB/s\u001b[0m eta \u001b[36m0:00:00\u001b[0m:--:--\u001b[0m\n",
      "\u001b[?25hDownloading blinker-1.8.2-py3-none-any.whl (9.5 kB)\n",
      "Downloading cachetools-5.5.0-py3-none-any.whl (9.5 kB)\n",
      "Downloading click-8.1.7-py3-none-any.whl (97 kB)\n",
      "Downloading GitPython-3.1.43-py3-none-any.whl (207 kB)\n",
      "Downloading protobuf-5.28.2-cp38-abi3-macosx_10_9_universal2.whl (414 kB)\n",
      "Downloading pyarrow-17.0.0-cp312-cp312-macosx_10_15_x86_64.whl (29.0 MB)\n",
      "\u001b[2K   \u001b[90m━━━━━━━━━━━━━━━━━━━━━━━━━━━━━━━━━━━━━━━━\u001b[0m \u001b[32m29.0/29.0 MB\u001b[0m \u001b[31m1.3 MB/s\u001b[0m eta \u001b[36m0:00:00\u001b[0m00:01\u001b[0m00:01\u001b[0m0m\n",
      "\u001b[?25hDownloading pydeck-0.9.1-py2.py3-none-any.whl (6.9 MB)\n",
      "\u001b[2K   \u001b[90m━━━━━━━━━━━━━━━━━━━━━━━━━━━━━━━━━━━━━━━━\u001b[0m \u001b[32m6.9/6.9 MB\u001b[0m \u001b[31m1.1 MB/s\u001b[0m eta \u001b[36m0:00:00\u001b[0m00:01\u001b[0m00:01\u001b[0m\n",
      "\u001b[?25hDownloading rich-13.9.2-py3-none-any.whl (242 kB)\n",
      "Downloading tenacity-9.0.0-py3-none-any.whl (28 kB)\n",
      "Downloading toml-0.10.2-py2.py3-none-any.whl (16 kB)\n",
      "Downloading gitdb-4.0.11-py3-none-any.whl (62 kB)\n",
      "Downloading markdown_it_py-3.0.0-py3-none-any.whl (87 kB)\n",
      "Downloading narwhals-1.9.4-py3-none-any.whl (188 kB)\n",
      "Downloading mdurl-0.1.2-py3-none-any.whl (10.0 kB)\n",
      "Downloading smmap-5.0.1-py3-none-any.whl (24 kB)\n",
      "Installing collected packages: toml, tenacity, smmap, pyarrow, protobuf, narwhals, mdurl, click, cachetools, blinker, pydeck, markdown-it-py, gitdb, rich, gitpython, altair, streamlit\n",
      "Successfully installed altair-5.4.1 blinker-1.8.2 cachetools-5.5.0 click-8.1.7 gitdb-4.0.11 gitpython-3.1.43 markdown-it-py-3.0.0 mdurl-0.1.2 narwhals-1.9.4 protobuf-5.28.2 pyarrow-17.0.0 pydeck-0.9.1 rich-13.9.2 smmap-5.0.1 streamlit-1.39.0 tenacity-9.0.0 toml-0.10.2\n"
     ]
    }
   ],
   "source": [
    "!pip install streamlit"
   ]
  },
  {
   "cell_type": "code",
   "execution_count": 8,
   "id": "4aedf798-a449-4ba3-bc19-ae8d162bf2bb",
   "metadata": {},
   "outputs": [],
   "source": [
    "import yfinance as yf\n",
    "import pandas as pd\n",
    "import streamlit as st"
   ]
  },
  {
   "cell_type": "code",
   "execution_count": null,
   "id": "f60c766c-7d34-4ef7-853e-3ce2d08380ed",
   "metadata": {},
   "outputs": [],
   "source": []
  }
 ],
 "metadata": {
  "kernelspec": {
   "display_name": "Python 3 (ipykernel)",
   "language": "python",
   "name": "python3"
  },
  "language_info": {
   "codemirror_mode": {
    "name": "ipython",
    "version": 3
   },
   "file_extension": ".py",
   "mimetype": "text/x-python",
   "name": "python",
   "nbconvert_exporter": "python",
   "pygments_lexer": "ipython3",
   "version": "3.12.5"
  }
 },
 "nbformat": 4,
 "nbformat_minor": 5
}
