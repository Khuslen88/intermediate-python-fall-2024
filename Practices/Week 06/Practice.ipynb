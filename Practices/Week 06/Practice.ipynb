{
 "cells": [
  {
   "cell_type": "markdown",
   "id": "3d7a1c77-0fec-400f-9507-e2f10d08abc5",
   "metadata": {
    "tags": []
   },
   "source": [
    "# Scraping `zangia.mn`\n",
    "* You need to import `pandas`, `requests` and `BeautifulSoup`"
   ]
  },
  {
   "cell_type": "code",
   "execution_count": 1,
   "id": "a2882d7b-3416-474c-a99d-0d445c1c58f8",
   "metadata": {},
   "outputs": [],
   "source": [
    "import pandas as pd\n",
    "import requests\n",
    "from bs4 import BeautifulSoup"
   ]
  },
  {
   "cell_type": "markdown",
   "id": "0fca01f5-7995-46b3-8849-953231d6dec1",
   "metadata": {
    "tags": []
   },
   "source": [
    "### Exercise 1: Scrape `zangia.mn` page#1\n",
    "* Make a dataframe using `Мэдээлэл технологи, Харилцаа холбоо` category `https://www.zangia.mn/job/list/pg.1/b.4`.\n",
    "* Get job listings from page 1.\n",
    "  * DataFrame should include columns: `job_title`, `salary`. \n",
    "  * Remove the row if `salary` text contains `Тохиролцоно`. \n",
    "    * *Hint*: Loop over the df and use `in` and `drop` methods.\n",
    "  * Take salary as 5000000 if `salary` text contains `5,000,000 -ааc дээш`\n",
    "  * Import statistics library\n",
    "  * Get the median salary using statistics library if there is a salary range. Example: 2,500,000-3,500,000 should be 3000000. \n",
    "    * Use string replace method to remove comma from numbers.\n",
    "    * *Hint*: Use string split method to get the numbers. \n",
    "  * Make a histogram plot using the `salary`.  \n"
   ]
  },
  {
   "cell_type": "code",
   "execution_count": 2,
   "id": "aa899bcc-d456-44af-b385-96aa18fbcaaa",
   "metadata": {},
   "outputs": [],
   "source": [
    "response = requests.get(\"https://www.zangia.mn/job/list/pg.1/b.4\")\n",
    "soup = BeautifulSoup(response.content)\n",
    "\n"
   ]
  },
  {
   "cell_type": "code",
   "execution_count": 3,
   "id": "e3679a78-4089-4d78-9416-29f6f113a3db",
   "metadata": {},
   "outputs": [],
   "source": [
    "divs = soup.find_all(\"div\", {\"class\": \"ad\"})"
   ]
  },
  {
   "cell_type": "code",
   "execution_count": 22,
   "id": "61836df5-dc1d-4bc6-b07c-d1acc0091012",
   "metadata": {},
   "outputs": [
    {
     "data": {
      "text/plain": [
       "'ERP систем хөгжүүлэгч / Програмист'"
      ]
     },
     "execution_count": 22,
     "metadata": {},
     "output_type": "execute_result"
    }
   ],
   "source": [
    "divs[0].b.get_text(strip=True)"
   ]
  },
  {
   "cell_type": "code",
   "execution_count": 11,
   "id": "f1522915-eacb-40cb-a2c6-be5b9cb74d5b",
   "metadata": {},
   "outputs": [
    {
     "data": {
      "text/plain": [
       "'2,500,000 - 3,000,000'"
      ]
     },
     "execution_count": 11,
     "metadata": {},
     "output_type": "execute_result"
    }
   ],
   "source": [
    "divs[0].span.get_text(strip=True)"
   ]
  },
  {
   "cell_type": "code",
   "execution_count": 12,
   "id": "e2691641-39bc-4090-ae07-e6884c6909a4",
   "metadata": {},
   "outputs": [],
   "source": [
    "job_titles = []\n",
    "job_salaries = []\n",
    "for div in divs:\n",
    "    job_titles.append(div.b.get_text(strip=True))\n",
    "    job_salaries.append(div.span.get_text(strip=True))"
   ]
  },
  {
   "cell_type": "code",
   "execution_count": 59,
   "id": "1fa2b210-6efb-42fb-a3df-b09006338cb0",
   "metadata": {},
   "outputs": [],
   "source": [
    "df = pd.DataFrame({\"title\": job_titles, \"salary\": job_salaries})"
   ]
  },
  {
   "cell_type": "code",
   "execution_count": 60,
   "id": "ff7461a8-bf62-415e-9c21-8524137996ab",
   "metadata": {},
   "outputs": [],
   "source": [
    "for i in range(len(df)):\n",
    "    if \"5,000,000 -ааc дээш\" in df['salary'][i]:\n",
    "        df['salary'][i] = 5_000_000\n",
    "        \n",
    "    if \"Тохиролцоно\" in df['salary'][i]:\n",
    "        df.drop(i, inplace=True)    "
   ]
  },
  {
   "cell_type": "code",
   "execution_count": 61,
   "id": "47e39649-4b1e-4a80-a06d-35fb0052f4b4",
   "metadata": {},
   "outputs": [],
   "source": [
    "df = df.reset_index(drop=True)\n",
    "df['salary'] = df['salary'].str.replace(\",\", \"\")"
   ]
  },
  {
   "cell_type": "code",
   "execution_count": 62,
   "id": "a12ccf19-4ea8-477d-8b7a-1d9d78a8b7de",
   "metadata": {},
   "outputs": [],
   "source": [
    "import statistics\n",
    "\n",
    "for i in range(len(df)):\n",
    "    lower = int(df['salary'][i].split(\" - \")[0])\n",
    "    upper = int(df['salary'][i].split(\" - \")[1])\n",
    "    # df['salary'][i] = statistics.median([lower, upper])\n",
    "    df.loc['salary', i] = statistics.median([lower, upper])"
   ]
  },
  {
   "cell_type": "code",
   "execution_count": 63,
   "id": "d5082df2-9629-4f3f-a23a-482f08bafb05",
   "metadata": {},
   "outputs": [
    {
     "data": {
      "text/plain": [
       "<Axes: >"
      ]
     },
     "execution_count": 63,
     "metadata": {},
     "output_type": "execute_result"
    },
    {
     "data": {
      "image/png": "[encoded data removed]",
      "text/plain": [
       "<Figure size 640x480 with 1 Axes>"
      ]
     },
     "metadata": {},
     "output_type": "display_data"
    }
   ],
   "source": [
    "df['salary'].hist()"
   ]
  },
  {
   "cell_type": "markdown",
   "id": "24e14f14-987b-4c11-9bfb-35c79e4a7215",
   "metadata": {},
   "source": [
    "### Exercise 2: Scrape `zangia.mn` Page#1 - Page#10\n",
    "* Make a dataframe using `Мэдээлэл технологи, Харилцаа холбоо` category `https://www.zangia.mn/job/list/pg.1/b.4`.\n",
    "* Get job listings from page 1-10. *Hint* Loop over the list of pages\n",
    "* Make a dataframe and make a histogram plot using `salary` column."
   ]
  },
  {
   "cell_type": "code",
   "execution_count": null,
   "id": "1b6ff87d-f1c8-456f-97f8-06a2fafacd0d",
   "metadata": {},
   "outputs": [],
   "source": [
    "# Your code"
   ]
  },
  {
   "cell_type": "markdown",
   "id": "928cbf46-a110-43f1-847a-788846efe1f8",
   "metadata": {},
   "source": [
    "### Exercise 3: Scrape `zangia.mn` Page#1 - Page#7\n",
    "* Make a dataframe using `Захиргаа, Хүний нөөц` category `https://www.zangia.mn/job/list/pg.1/b.36`.\n",
    "* Get job listings from page 1-7.\n",
    "* Make a dataframe and make a histogram plot using `salary` column.\n",
    "\n",
    "**WARNING** MAKE SURE YOUR LINKS ARE CORRECT!"
   ]
  },
  {
   "cell_type": "code",
   "execution_count": null,
   "id": "d8f744d3-5e8c-4bbd-900e-e7b31502eadf",
   "metadata": {},
   "outputs": [],
   "source": [
    "# Your code"
   ]
  }
 ],
 "metadata": {
  "kernelspec": {
   "display_name": "Python 3 (ipykernel)",
   "language": "python",
   "name": "python3"
  },
  "language_info": {
   "codemirror_mode": {
    "name": "ipython",
    "version": 3
   },
   "file_extension": ".py",
   "mimetype": "text/x-python",
   "name": "python",
   "nbconvert_exporter": "python",
   "pygments_lexer": "ipython3",
   "version": "3.12.3"
  }
 },
 "nbformat": 4,
 "nbformat_minor": 5
}
